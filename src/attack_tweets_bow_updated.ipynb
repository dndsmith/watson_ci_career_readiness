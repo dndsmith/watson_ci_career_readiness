{
 "cells": [
  {
   "cell_type": "code",
   "execution_count": 1,
   "metadata": {},
   "outputs": [],
   "source": [
    "import numpy as np\n",
    "import pandas as pd\n",
    "# added the two lines below\n",
    "import nltk\n",
    "#ntlk.download('stopwords')\n",
    "#nltk.download('punkt')\n",
    "import re\n",
    "import string\n",
    "from sklearn.model_selection import train_test_split\n",
    "from sklearn.feature_extraction.text import CountVectorizer, TfidfVectorizer\n",
    "from sklearn.linear_model import LogisticRegression\n",
    "from sklearn.model_selection import GridSearchCV\n",
    "from nltk.corpus import stopwords \n",
    "from nltk.tokenize import word_tokenize \n",
    "%matplotlib inline"
   ]
  },
  {
   "cell_type": "markdown",
   "metadata": {},
   "source": [
    "## Load and clean the data"
   ]
  },
  {
   "cell_type": "code",
   "execution_count": 2,
   "metadata": {},
   "outputs": [],
   "source": [
    "df = pd.read_csv('C:\\\\Users\\\\mschul3\\\\Documents\\\\WatsonCI\\\\tweets_labelled.csv')\n",
    "\n",
    "# select the attack and text columns\n",
    "df = df[['attack', 'text']]\n",
    "\n",
    "# drop rows with nan values\n",
    "df = df.dropna()\n",
    "\n",
    "# drop any with all white-space text\n",
    "df.text = df.text.str.strip()\n",
    "df = df[df.text!='']\n",
    "\n",
    "# convert the attack column to an integer\n",
    "df.attack = df.attack.astype('int')"
   ]
  },
  {
   "cell_type": "markdown",
   "metadata": {},
   "source": [
    "## Look at the data"
   ]
  },
  {
   "cell_type": "code",
   "execution_count": 3,
   "metadata": {},
   "outputs": [
    {
     "data": {
      "text/html": [
       "<div>\n",
       "<style scoped>\n",
       "    .dataframe tbody tr th:only-of-type {\n",
       "        vertical-align: middle;\n",
       "    }\n",
       "\n",
       "    .dataframe tbody tr th {\n",
       "        vertical-align: top;\n",
       "    }\n",
       "\n",
       "    .dataframe thead th {\n",
       "        text-align: right;\n",
       "    }\n",
       "</style>\n",
       "<table border=\"1\" class=\"dataframe\">\n",
       "  <thead>\n",
       "    <tr style=\"text-align: right;\">\n",
       "      <th></th>\n",
       "      <th>attack</th>\n",
       "      <th>text</th>\n",
       "    </tr>\n",
       "  </thead>\n",
       "  <tbody>\n",
       "    <tr>\n",
       "      <th>0</th>\n",
       "      <td>0</td>\n",
       "      <td>Today I introduced the Addressing Teacher Shor...</td>\n",
       "    </tr>\n",
       "    <tr>\n",
       "      <th>1</th>\n",
       "      <td>1</td>\n",
       "      <td>Wholeheartedly agree .@RepJeffries -- McConnel...</td>\n",
       "    </tr>\n",
       "    <tr>\n",
       "      <th>2</th>\n",
       "      <td>0</td>\n",
       "      <td>Look forward to reading it. Thanks!</td>\n",
       "    </tr>\n",
       "    <tr>\n",
       "      <th>3</th>\n",
       "      <td>0</td>\n",
       "      <td>When we passed the Tax Cuts and Jobs Act, it h...</td>\n",
       "    </tr>\n",
       "    <tr>\n",
       "      <th>4</th>\n",
       "      <td>1</td>\n",
       "      <td>There's still time for an @FBI background inve...</td>\n",
       "    </tr>\n",
       "  </tbody>\n",
       "</table>\n",
       "</div>"
      ],
      "text/plain": [
       "   attack                                               text\n",
       "0       0  Today I introduced the Addressing Teacher Shor...\n",
       "1       1  Wholeheartedly agree .@RepJeffries -- McConnel...\n",
       "2       0                Look forward to reading it. Thanks!\n",
       "3       0  When we passed the Tax Cuts and Jobs Act, it h...\n",
       "4       1  There's still time for an @FBI background inve..."
      ]
     },
     "execution_count": 3,
     "metadata": {},
     "output_type": "execute_result"
    }
   ],
   "source": [
    "df.head()"
   ]
  },
  {
   "cell_type": "code",
   "execution_count": 4,
   "metadata": {},
   "outputs": [
    {
     "data": {
      "text/html": [
       "<div>\n",
       "<style scoped>\n",
       "    .dataframe tbody tr th:only-of-type {\n",
       "        vertical-align: middle;\n",
       "    }\n",
       "\n",
       "    .dataframe tbody tr th {\n",
       "        vertical-align: top;\n",
       "    }\n",
       "\n",
       "    .dataframe thead th {\n",
       "        text-align: right;\n",
       "    }\n",
       "</style>\n",
       "<table border=\"1\" class=\"dataframe\">\n",
       "  <thead>\n",
       "    <tr style=\"text-align: right;\">\n",
       "      <th></th>\n",
       "      <th>text</th>\n",
       "    </tr>\n",
       "    <tr>\n",
       "      <th>attack</th>\n",
       "      <th></th>\n",
       "    </tr>\n",
       "  </thead>\n",
       "  <tbody>\n",
       "    <tr>\n",
       "      <th>0</th>\n",
       "      <td>1110</td>\n",
       "    </tr>\n",
       "    <tr>\n",
       "      <th>1</th>\n",
       "      <td>165</td>\n",
       "    </tr>\n",
       "  </tbody>\n",
       "</table>\n",
       "</div>"
      ],
      "text/plain": [
       "        text\n",
       "attack      \n",
       "0       1110\n",
       "1        165"
      ]
     },
     "execution_count": 4,
     "metadata": {},
     "output_type": "execute_result"
    }
   ],
   "source": [
    "# look at number of attacks.\n",
    "# 0: not attack\n",
    "# 1: attack\n",
    "df.groupby('attack').count()"
   ]
  },
  {
   "cell_type": "markdown",
   "metadata": {},
   "source": [
    "Note that there are many more _non-attacks_ than _attacks_. This is called class imbalance and can lead to challenges for modeling and model evaluation."
   ]
  },
  {
   "cell_type": "code",
   "execution_count": 5,
   "metadata": {},
   "outputs": [
    {
     "data": {
      "text/plain": [
       "[\"This week's Insta-Poll: No Budget, No Pay http://lance.congressnewsletter.net/common/mailings/index.cfm?sniv=2100098576.56087.96.2...\",\n",
       " 'I sat in on interviews w/students pursuing a nomination to a US service academy. I was impressed by their patriotism & commitment #PA11#NEPA',\n",
       " 'Turn on @FoxBusiness at 11am Central to watch me on Cavuto!',\n",
       " 'Consumer confidence has reached the highest level since December 2000! Our economy is growing stronger!https://goo.gl/m7qiAw',\n",
       " 'On Wednesday, Zuckerberg will testify before @HouseCommerce. I look forward to questioning him.',\n",
       " 'Honoring the memory of those we lost 15 years ago today at the #Yonkers 9/11 memorial ceremony #NeverForgetpic.twitter.com/txZzaoDx1h',\n",
       " 'David and Ashley are true heroes. The epitome of bravery.',\n",
       " 'This court ruling is an important victory. The implementation of #Obamacare was illegal and its policies are harmful. http://thehill.com/policy/healthcare/253115-court-allows-boehner-lawsuit-against-obamacare-to-move-forward...',\n",
       " \"Mary and I headed to see Judge Alva and his wife. Judge and I going skeet shooting... Mary will be catching up with the Judge's wife.\",\n",
       " 'Due to increasingly inclement weather conditions, the Delhi, Kingston, and Kinderhook district offices are closed for the remainder of the day. Please call the Washington D.C. office at (202) 225-5614 for assistance.']"
      ]
     },
     "execution_count": 5,
     "metadata": {},
     "output_type": "execute_result"
    }
   ],
   "source": [
    "# show ten random tweets\n",
    "list(df.sample(10, replace=False).text)"
   ]
  },
  {
   "cell_type": "markdown",
   "metadata": {},
   "source": [
    "## Preprocess text\n",
    "Preprocessing is one of the subtlest parts of natural language processing. For brevity, we perform only the most basic steps. "
   ]
  },
  {
   "cell_type": "code",
   "execution_count": 6,
   "metadata": {},
   "outputs": [],
   "source": [
    "# replace all punctuation with space\n",
    "def remove_punctuation(txt):\n",
    "    #txt = txt.translate(None, string.punctuation)\n",
    "    txt = txt.translate(str.maketrans('','',string.punctuation))\n",
    "    \n",
    "    return txt\n",
    "\n",
    "# lowercase text\n",
    "def lowercase(txt):\n",
    "    txt = txt.lower()\n",
    "    # TODO: more nuanced rules...\n",
    "    return txt\n",
    "\n",
    "# remove stopwords\n",
    "def remove_stopwords(txt):\n",
    "    stop_words = set(stopwords.words('english')) \n",
    "    toks = word_tokenize(txt) \n",
    "    toks = [w for w in toks if not w in stop_words]\n",
    "    txt = \" \".join(toks)\n",
    "    \n",
    "    return txt\n",
    "\n",
    "# TODO: perform other steps...\n",
    "\n",
    "# put all steps together\n",
    "def preproc(txt):\n",
    "    txt = remove_punctuation(txt)\n",
    "    txt = lowercase(txt)\n",
    "    txt = remove_stopwords(txt)\n",
    "    #TODO: other steps...\n",
    "    \n",
    "    return txt    "
   ]
  },
  {
   "cell_type": "code",
   "execution_count": 7,
   "metadata": {},
   "outputs": [
    {
     "data": {
      "text/plain": [
       "'lights sooooo bright'"
      ]
     },
     "execution_count": 7,
     "metadata": {},
     "output_type": "execute_result"
    }
   ],
   "source": [
    "# try it out on some text\n",
    "preproc(\"why are the lights sooooo bright\")"
   ]
  },
  {
   "cell_type": "code",
   "execution_count": 8,
   "metadata": {},
   "outputs": [],
   "source": [
    "# Apply the preprocessing to our text\n",
    "df['text_proc'] = df.text.apply(lambda txt: preproc(txt))"
   ]
  },
  {
   "cell_type": "code",
   "execution_count": 9,
   "metadata": {},
   "outputs": [
    {
     "data": {
      "text/html": [
       "<div>\n",
       "<style scoped>\n",
       "    .dataframe tbody tr th:only-of-type {\n",
       "        vertical-align: middle;\n",
       "    }\n",
       "\n",
       "    .dataframe tbody tr th {\n",
       "        vertical-align: top;\n",
       "    }\n",
       "\n",
       "    .dataframe thead th {\n",
       "        text-align: right;\n",
       "    }\n",
       "</style>\n",
       "<table border=\"1\" class=\"dataframe\">\n",
       "  <thead>\n",
       "    <tr style=\"text-align: right;\">\n",
       "      <th></th>\n",
       "      <th>text</th>\n",
       "      <th>text_proc</th>\n",
       "    </tr>\n",
       "  </thead>\n",
       "  <tbody>\n",
       "    <tr>\n",
       "      <th>849</th>\n",
       "      <td>Philip Seymour Hoffman was a national treasure...</td>\n",
       "      <td>philip seymour hoffman national treasure roc s...</td>\n",
       "    </tr>\n",
       "    <tr>\n",
       "      <th>253</th>\n",
       "      <td>TUNE IN: At 4:35 p.m. CT, I'm joining @KeithSh...</td>\n",
       "      <td>tune 435 pm ct im joining keithsherley live 10...</td>\n",
       "    </tr>\n",
       "    <tr>\n",
       "      <th>917</th>\n",
       "      <td>Happy Mother's Day!</td>\n",
       "      <td>happy mothers day</td>\n",
       "    </tr>\n",
       "    <tr>\n",
       "      <th>840</th>\n",
       "      <td>Pleasure interviewing w/ @kktv11news DC report...</td>\n",
       "      <td>pleasure interviewing w kktv11news dc reporter...</td>\n",
       "    </tr>\n",
       "    <tr>\n",
       "      <th>1194</th>\n",
       "      <td>Sign up for Mac's eNewsletter today: https://t...</td>\n",
       "      <td>sign macs enewsletter today httpsthornberryfor...</td>\n",
       "    </tr>\n",
       "    <tr>\n",
       "      <th>750</th>\n",
       "      <td>We must support long-term solutions w/ shovel-...</td>\n",
       "      <td>must support longterm solutions w shovelready ...</td>\n",
       "    </tr>\n",
       "    <tr>\n",
       "      <th>154</th>\n",
       "      <td>Let's go wildcats #EMAW #MarchMadness2018@KSta...</td>\n",
       "      <td>lets go wildcats emaw marchmadness2018kstatembb</td>\n",
       "    </tr>\n",
       "    <tr>\n",
       "      <th>454</th>\n",
       "      <td>Will be live soon w/ @wolfblitzer on @CNNSitRo...</td>\n",
       "      <td>live soon w wolfblitzer cnnsitroom discuss cal...</td>\n",
       "    </tr>\n",
       "    <tr>\n",
       "      <th>1128</th>\n",
       "      <td>#FiscalCliff includes a hike in the Estate Tax...</td>\n",
       "      <td>fiscalcliff includes hike estate tax 35 55 hel...</td>\n",
       "    </tr>\n",
       "    <tr>\n",
       "      <th>455</th>\n",
       "      <td>Our #privacy rights must be protected. Corpora...</td>\n",
       "      <td>privacy rights must protected corporations sho...</td>\n",
       "    </tr>\n",
       "    <tr>\n",
       "      <th>792</th>\n",
       "      <td>@Pontifex Francis on #ArmenianGenocideRecognit...</td>\n",
       "      <td>pontifex francis armeniangenociderecognition t...</td>\n",
       "    </tr>\n",
       "    <tr>\n",
       "      <th>923</th>\n",
       "      <td>VOTE HERE for local high school students' work...</td>\n",
       "      <td>vote local high school students work congressi...</td>\n",
       "    </tr>\n",
       "    <tr>\n",
       "      <th>643</th>\n",
       "      <td>Jim Lawson was arrested the next day at Kelly ...</td>\n",
       "      <td>jim lawson arrested next day kelly miller smit...</td>\n",
       "    </tr>\n",
       "    <tr>\n",
       "      <th>395</th>\n",
       "      <td>This is all about growing our economy, improvi...</td>\n",
       "      <td>growing economy improving communities creating...</td>\n",
       "    </tr>\n",
       "    <tr>\n",
       "      <th>519</th>\n",
       "      <td>San Diego's world-class academic institutions ...</td>\n",
       "      <td>san diegos worldclass academic institutions gi...</td>\n",
       "    </tr>\n",
       "    <tr>\n",
       "      <th>692</th>\n",
       "      <td>My heart goes out to those impacted by these h...</td>\n",
       "      <td>heart goes impacted heinous attacks paris plea...</td>\n",
       "    </tr>\n",
       "    <tr>\n",
       "      <th>272</th>\n",
       "      <td>Great mtg w/ Gen. Brito from Ft. Polk. We talk...</td>\n",
       "      <td>great mtg w gen brito ft polk talked need long...</td>\n",
       "    </tr>\n",
       "    <tr>\n",
       "      <th>553</th>\n",
       "      <td>Participated recently in America's 9/11 Ride, ...</td>\n",
       "      <td>participated recently americas 911 ride honori...</td>\n",
       "    </tr>\n",
       "    <tr>\n",
       "      <th>1031</th>\n",
       "      <td>Time to repeal #MedDeviceTax #4jobs &amp; #4growth...</td>\n",
       "      <td>time repeal meddevicetax 4jobs 4growth httpgoo...</td>\n",
       "    </tr>\n",
       "    <tr>\n",
       "      <th>215</th>\n",
       "      <td>Congratulations to #IFPD's 1st female Sergeant...</td>\n",
       "      <td>congratulations ifpds 1st female sergeant jess...</td>\n",
       "    </tr>\n",
       "  </tbody>\n",
       "</table>\n",
       "</div>"
      ],
      "text/plain": [
       "                                                   text  \\\n",
       "849   Philip Seymour Hoffman was a national treasure...   \n",
       "253   TUNE IN: At 4:35 p.m. CT, I'm joining @KeithSh...   \n",
       "917                                 Happy Mother's Day!   \n",
       "840   Pleasure interviewing w/ @kktv11news DC report...   \n",
       "1194  Sign up for Mac's eNewsletter today: https://t...   \n",
       "750   We must support long-term solutions w/ shovel-...   \n",
       "154   Let's go wildcats #EMAW #MarchMadness2018@KSta...   \n",
       "454   Will be live soon w/ @wolfblitzer on @CNNSitRo...   \n",
       "1128  #FiscalCliff includes a hike in the Estate Tax...   \n",
       "455   Our #privacy rights must be protected. Corpora...   \n",
       "792   @Pontifex Francis on #ArmenianGenocideRecognit...   \n",
       "923   VOTE HERE for local high school students' work...   \n",
       "643   Jim Lawson was arrested the next day at Kelly ...   \n",
       "395   This is all about growing our economy, improvi...   \n",
       "519   San Diego's world-class academic institutions ...   \n",
       "692   My heart goes out to those impacted by these h...   \n",
       "272   Great mtg w/ Gen. Brito from Ft. Polk. We talk...   \n",
       "553   Participated recently in America's 9/11 Ride, ...   \n",
       "1031  Time to repeal #MedDeviceTax #4jobs & #4growth...   \n",
       "215   Congratulations to #IFPD's 1st female Sergeant...   \n",
       "\n",
       "                                              text_proc  \n",
       "849   philip seymour hoffman national treasure roc s...  \n",
       "253   tune 435 pm ct im joining keithsherley live 10...  \n",
       "917                                   happy mothers day  \n",
       "840   pleasure interviewing w kktv11news dc reporter...  \n",
       "1194  sign macs enewsletter today httpsthornberryfor...  \n",
       "750   must support longterm solutions w shovelready ...  \n",
       "154     lets go wildcats emaw marchmadness2018kstatembb  \n",
       "454   live soon w wolfblitzer cnnsitroom discuss cal...  \n",
       "1128  fiscalcliff includes hike estate tax 35 55 hel...  \n",
       "455   privacy rights must protected corporations sho...  \n",
       "792   pontifex francis armeniangenociderecognition t...  \n",
       "923   vote local high school students work congressi...  \n",
       "643   jim lawson arrested next day kelly miller smit...  \n",
       "395   growing economy improving communities creating...  \n",
       "519   san diegos worldclass academic institutions gi...  \n",
       "692   heart goes impacted heinous attacks paris plea...  \n",
       "272   great mtg w gen brito ft polk talked need long...  \n",
       "553   participated recently americas 911 ride honori...  \n",
       "1031  time repeal meddevicetax 4jobs 4growth httpgoo...  \n",
       "215   congratulations ifpds 1st female sergeant jess...  "
      ]
     },
     "execution_count": 9,
     "metadata": {},
     "output_type": "execute_result"
    }
   ],
   "source": [
    "# Take a look at the processed txt\n",
    "df.sample(20, replace=False)[['text', 'text_proc']]"
   ]
  },
  {
   "cell_type": "markdown",
   "metadata": {},
   "source": [
    "## Bag of words model"
   ]
  },
  {
   "cell_type": "code",
   "execution_count": 10,
   "metadata": {},
   "outputs": [
    {
     "data": {
      "text/plain": [
       "(1275,)"
      ]
     },
     "execution_count": 10,
     "metadata": {},
     "output_type": "execute_result"
    }
   ],
   "source": [
    "# select data for modeling\n",
    "y = df['attack']\n",
    "X = df['text_proc'] \n",
    "X.shape"
   ]
  },
  {
   "cell_type": "code",
   "execution_count": 11,
   "metadata": {},
   "outputs": [
    {
     "data": {
      "text/plain": [
       "(1275, 609)"
      ]
     },
     "execution_count": 11,
     "metadata": {},
     "output_type": "execute_result"
    }
   ],
   "source": [
    "# get count features\n",
    "count_vect = CountVectorizer(\n",
    "    ngram_range=(1,2),\n",
    "    strip_accents='unicode',\n",
    "    min_df = 5 # min document frequency; every unigram/bigram repeated less than 5 times is discarded\n",
    "    )\n",
    "X_counts = count_vect.fit_transform(X)\n",
    "X_counts.shape # shape gives us dimensions of an array"
   ]
  },
  {
   "cell_type": "code",
   "execution_count": 12,
   "metadata": {},
   "outputs": [],
   "source": [
    "# hold-out some data for final validation - don't need to worry about this right now\n",
    "X_counts_train, X_counts_test, y_train, y_test = train_test_split(X_counts, y, test_size=0.25, random_state=42)"
   ]
  },
  {
   "cell_type": "code",
   "execution_count": 13,
   "metadata": {},
   "outputs": [
    {
     "name": "stdout",
     "output_type": "stream",
     "text": [
      "Fitting 8 folds for each of 5 candidates, totalling 40 fits\n"
     ]
    },
    {
     "name": "stderr",
     "output_type": "stream",
     "text": [
      "[Parallel(n_jobs=6)]: Using backend LokyBackend with 6 concurrent workers.\n",
      "[Parallel(n_jobs=6)]: Done   6 tasks      | elapsed:   10.5s\n",
      "[Parallel(n_jobs=6)]: Done  38 out of  40 | elapsed:   10.7s remaining:    0.5s\n"
     ]
    },
    {
     "name": "stdout",
     "output_type": "stream",
     "text": [
      "GridSearchCV(cv=8, error_score='raise-deprecating',\n",
      "       estimator=LogisticRegression(C=1.0, class_weight=None, dual=False, fit_intercept=True,\n",
      "          intercept_scaling=1, max_iter=100, multi_class='warn',\n",
      "          n_jobs=None, penalty='l2', random_state=None, solver='warn',\n",
      "          tol=0.0001, verbose=0, warm_start=False),\n",
      "       fit_params=None, iid='warn', n_jobs=6,\n",
      "       param_grid={'C': [10, 3, 1, 0.3, 0.1]}, pre_dispatch='2*n_jobs',\n",
      "       refit=True, return_train_score=True, scoring=None, verbose=5)\n"
     ]
    },
    {
     "name": "stderr",
     "output_type": "stream",
     "text": [
      "[Parallel(n_jobs=6)]: Done  40 out of  40 | elapsed:   10.8s finished\n",
      "C:\\Users\\mschul3\\Anaconda3\\lib\\site-packages\\sklearn\\linear_model\\logistic.py:433: FutureWarning: Default solver will be changed to 'lbfgs' in 0.22. Specify a solver to silence this warning.\n",
      "  FutureWarning)\n"
     ]
    }
   ],
   "source": [
    "# Define and fit the model\n",
    "estimator =  LogisticRegression()\n",
    "params = dict(C=[10,3,1,0.3,0.1])\n",
    "clf_cv = GridSearchCV(estimator, param_grid=params, cv=8, verbose=5, n_jobs=6, return_train_score=True)\n",
    "print(clf_cv.fit(X_counts_train, y_train))"
   ]
  },
  {
   "cell_type": "code",
   "execution_count": 14,
   "metadata": {},
   "outputs": [
    {
     "data": {
      "text/plain": [
       "{'mean_fit_time': array([0.0158709 , 0.01444602, 0.00644806, 0.0052695 , 0.00440201]),\n",
       " 'std_fit_time': array([0.00749226, 0.00971381, 0.0020892 , 0.00235186, 0.00029731]),\n",
       " 'mean_score_time': array([0.0009293 , 0.00179794, 0.0017983 , 0.00049654, 0.00061977]),\n",
       " 'std_score_time': array([3.86123356e-04, 2.36494553e-03, 2.36515490e-03, 3.94247668e-07,\n",
       "        2.14599701e-04]),\n",
       " 'param_C': masked_array(data=[10, 3, 1, 0.3, 0.1],\n",
       "              mask=[False, False, False, False, False],\n",
       "        fill_value='?',\n",
       "             dtype=object),\n",
       " 'params': [{'C': 10}, {'C': 3}, {'C': 1}, {'C': 0.3}, {'C': 0.1}],\n",
       " 'split0_test_score': array([0.81818182, 0.85123967, 0.85950413, 0.87603306, 0.8677686 ]),\n",
       " 'split1_test_score': array([0.86666667, 0.875     , 0.89166667, 0.88333333, 0.875     ]),\n",
       " 'split2_test_score': array([0.9       , 0.9       , 0.9       , 0.88333333, 0.875     ]),\n",
       " 'split3_test_score': array([0.8487395 , 0.85714286, 0.86554622, 0.87394958, 0.87394958]),\n",
       " 'split4_test_score': array([0.87394958, 0.8907563 , 0.88235294, 0.8907563 , 0.87394958]),\n",
       " 'split5_test_score': array([0.86554622, 0.87394958, 0.88235294, 0.87394958, 0.87394958]),\n",
       " 'split6_test_score': array([0.8907563 , 0.89915966, 0.8907563 , 0.87394958, 0.87394958]),\n",
       " 'split7_test_score': array([0.85714286, 0.86554622, 0.8907563 , 0.88235294, 0.87394958]),\n",
       " 'mean_test_score': array([0.86506276, 0.87656904, 0.88284519, 0.87970711, 0.87343096]),\n",
       " 'std_test_score': array([0.0237639 , 0.01737697, 0.01298287, 0.00578418, 0.00220081]),\n",
       " 'rank_test_score': array([5, 3, 1, 2, 4]),\n",
       " 'split0_train_score': array([0.99161677, 0.9760479 , 0.9508982 , 0.90898204, 0.8742515 ]),\n",
       " 'split1_train_score': array([0.99282297, 0.97488038, 0.94736842, 0.9007177 , 0.87320574]),\n",
       " 'split2_train_score': array([0.98923445, 0.97368421, 0.9437799 , 0.90669856, 0.87320574]),\n",
       " 'split3_train_score': array([0.99283154, 0.97610514, 0.94982079, 0.90561529, 0.87335723]),\n",
       " 'split4_train_score': array([0.99283154, 0.97729988, 0.95221027, 0.90561529, 0.87335723]),\n",
       " 'split5_train_score': array([0.99283154, 0.97252091, 0.94982079, 0.90203106, 0.87455197]),\n",
       " 'split6_train_score': array([0.9916368 , 0.97610514, 0.94982079, 0.90442055, 0.87335723]),\n",
       " 'split7_train_score': array([0.99283154, 0.97491039, 0.94504182, 0.90561529, 0.87335723]),\n",
       " 'mean_train_score': array([0.99207964, 0.97519424, 0.94859512, 0.90496197, 0.87358048]),\n",
       " 'std_train_score': array([0.00118951, 0.001433  , 0.00274311, 0.00243296, 0.00048403])}"
      ]
     },
     "execution_count": 14,
     "metadata": {},
     "output_type": "execute_result"
    }
   ],
   "source": [
    "# raw cross-validation results\n",
    "res = clf_cv.cv_results_\n",
    "res"
   ]
  },
  {
   "cell_type": "code",
   "execution_count": 15,
   "metadata": {},
   "outputs": [
    {
     "data": {
      "image/png": "[encoded data removed]",
      "text/plain": [
       "<Figure size 432x288 with 1 Axes>"
      ]
     },
     "metadata": {
      "needs_background": "light"
     },
     "output_type": "display_data"
    }
   ],
   "source": [
    "import matplotlib.pyplot as plt\n",
    "plt.semilogx(params['C'], res['mean_test_score'], 'bo')\n",
    "plt.errorbar(params['C'], res['mean_test_score'], yerr=res['std_test_score'])\n",
    "plt.title('Model performance vs. inverse regularization strength')\n",
    "plt.xlabel('C')\n",
    "plt.ylabel('ROC-AUC')\n",
    "plt.grid()\n",
    "plt.show()"
   ]
  },
  {
   "cell_type": "markdown",
   "metadata": {},
   "source": [
    "## Evaluate model"
   ]
  },
  {
   "cell_type": "code",
   "execution_count": 16,
   "metadata": {},
   "outputs": [],
   "source": [
    "# Retrain best model on entire training set and predict outcomes on test set\n",
    "from sklearn import metrics\n",
    "clf_best = clf_cv.best_estimator_.fit(X_counts_train, y_train)\n",
    "y_pred_test = clf_best.predict_proba(X_counts_test)[:,1]"
   ]
  },
  {
   "cell_type": "code",
   "execution_count": 17,
   "metadata": {},
   "outputs": [
    {
     "name": "stdout",
     "output_type": "stream",
     "text": [
      "Maximum F1 score: 0.5476190476190476\n",
      "Precision at max: 0.575\n",
      "Recall at max: 0.5227272727272727\n",
      "Optimal threshold: 0.23191681680156015\n",
      "Confusion matrix: \n",
      " [[258  17]\n",
      " [ 22  22]]\n"
     ]
    },
    {
     "data": {
      "image/png": "[encoded data removed]",
      "text/plain": [
       "<Figure size 432x288 with 1 Axes>"
      ]
     },
     "metadata": {
      "needs_background": "light"
     },
     "output_type": "display_data"
    },
    {
     "data": {
      "text/plain": [
       "<Figure size 432x288 with 0 Axes>"
      ]
     },
     "metadata": {},
     "output_type": "display_data"
    }
   ],
   "source": [
    "# precision-recall analysis:\n",
    "precision, recall, eps = metrics.precision_recall_curve(y_test, y_pred_test)\n",
    "f1 = 2 * precision * recall / (precision + recall)\n",
    "f1max_ind = np.argmax(f1)\n",
    "print(\"Maximum F1 score: \" + str(f1[f1max_ind]))\n",
    "print(\"Precision at max: \" + str(precision[f1max_ind]))\n",
    "print(\"Recall at max: \" + str(recall[f1max_ind]))\n",
    "print(\"Optimal threshold: \" + str(eps[f1max_ind]))\n",
    "\n",
    "# confusion matrix at optimal threshold\n",
    "print(\"Confusion matrix: \\n\", metrics.confusion_matrix(y_test, y_pred_test>eps[f1max_ind]))\n",
    "\n",
    "# precision recall curve\n",
    "fig, ax = plt.subplots() \n",
    "ax.plot(recall, precision, 'b-')\n",
    "ax.set(xlabel='recall', ylabel='precision',ylim=(0,None))\n",
    "ax.set_aspect('equal')\n",
    "ax.grid()\n",
    "plt.title('Precision-Recall Curve')\n",
    "plt.show()\n",
    "plt.clf()"
   ]
  },
  {
   "cell_type": "code",
   "execution_count": 18,
   "metadata": {},
   "outputs": [
    {
     "name": "stdout",
     "output_type": "stream",
     "text": [
      "ROC-AUC:  0.8350413223140497\n"
     ]
    },
    {
     "data": {
      "image/png": "[encoded data removed]",
      "text/plain": [
       "<Figure size 432x288 with 1 Axes>"
      ]
     },
     "metadata": {
      "needs_background": "light"
     },
     "output_type": "display_data"
    },
    {
     "data": {
      "text/plain": [
       "<Figure size 432x288 with 0 Axes>"
      ]
     },
     "metadata": {},
     "output_type": "display_data"
    }
   ],
   "source": [
    "# ROC Analysis:\n",
    "fpr, tpr, th = metrics.roc_curve(y_test, y_pred_test)\n",
    "roc_auc = metrics.roc_auc_score(y_test, y_pred_test)\n",
    "print(\"ROC-AUC: \", roc_auc)\n",
    "\n",
    "fig, ax = plt.subplots() \n",
    "ax.plot(fpr, tpr, 'b-')\n",
    "ax.plot([0,1],[0,1],'k--')\n",
    "#ax.plot([0,0.5],[1,0.5], 'k-')\n",
    "#ax.plot([0,0.3],[1,1],'k',linewidth=10)\n",
    "#ax.plot([0],[1],'ro',markersize=20)\n",
    "ax.set(xlabel='fpr', ylabel='tpr')\n",
    "ax.set_aspect('equal')\n",
    "ax.grid()\n",
    "plt.title(\"ROC Curve\")\n",
    "plt.show()\n",
    "plt.clf()"
   ]
  },
  {
   "cell_type": "markdown",
   "metadata": {},
   "source": [
    "## What words are important?"
   ]
  },
  {
   "cell_type": "code",
   "execution_count": 19,
   "metadata": {},
   "outputs": [],
   "source": [
    "# find coefficient size order from min to max\n",
    "argsrt = np.argsort(clf_best.coef_).flatten()"
   ]
  },
  {
   "cell_type": "code",
   "execution_count": 20,
   "metadata": {},
   "outputs": [
    {
     "data": {
      "text/plain": [
       "(609,)"
      ]
     },
     "execution_count": 20,
     "metadata": {},
     "output_type": "execute_result"
    }
   ],
   "source": [
    "# map to words\n",
    "var=np.asarray(list(count_vect.vocabulary_.keys()))\n",
    "sorted_words = var[argsrt] # error: too many indices for the array\n",
    "sorted_words.shape"
   ]
  },
  {
   "cell_type": "code",
   "execution_count": 21,
   "metadata": {},
   "outputs": [
    {
     "data": {
      "text/plain": [
       "(609,)"
      ]
     },
     "execution_count": 21,
     "metadata": {},
     "output_type": "execute_result"
    }
   ],
   "source": [
    "argsrt.shape"
   ]
  },
  {
   "cell_type": "code",
   "execution_count": 22,
   "metadata": {},
   "outputs": [
    {
     "name": "stdout",
     "output_type": "stream",
     "text": [
      "Attack words:  ['including' 'congress' 'protection' 'de' 'vets' 'served' 'place' 'farm'\n",
      " 'choice' 'story' 'together' 'passing' 'friends' 'back' 'chairman' 'info'\n",
      " 'people' '4th' '1st' 'great time' 'pass' 'office' 'dc' 'obama' 'right']\n",
      "Non-attack words:  ['tune' 'hard' 'pm' 'friend' 'forward' 'men' 'rt' 'congressional'\n",
      " 'infrastructure' 'food' 'latest' 'making' 'town hall' 'students' 'daca'\n",
      " 'leadership' 'heres' 'make' 'programs' 'competition' 'health care'\n",
      " 'deeply' 'costs' 'missed' 'district']\n"
     ]
    }
   ],
   "source": [
    "# top words predicting attack:\n",
    "n=25\n",
    "print(\"Attack words: \", sorted_words[-1:-1*n-1:-1])\n",
    "\n",
    "# predicting not attack:\n",
    "print(\"Non-attack words: \", sorted_words[0:n])"
   ]
  },
  {
   "cell_type": "markdown",
   "metadata": {},
   "source": [
    "## What are examples where the model got it wrong?"
   ]
  },
  {
   "cell_type": "code",
   "execution_count": 23,
   "metadata": {},
   "outputs": [
    {
     "data": {
      "text/plain": [
       "['Met with President Houshmand and toured @RowanUniversity. Amazing growth of campus and innovative approaches to addressing student costs and relevant degrees/certificate programs.pic.twitter.com/YA0wisf9va',\n",
       " 'ICYMI yesterday, here are my remarks to the House and Senate Budget Conference Committeehttps://www.youtube.com/watch?v=Af12n75mPLw...',\n",
       " 'The moment to act is now. #CBO Reports #Immigration Bill would reduce deficit by $197 billion over 10 years. http://www.cbo.gov/',\n",
       " \"At the invitation of Bishop Su'a and Salote Schuster a few years ago I attended a General Conference in Salt Lake City where I was privileged to hear President Monson speak.https://radewagen.house.gov/media-center/press-releases/statement-honoring-life-thomas-s-monson...\",\n",
       " '\"We have ended the war on American Energy -- and we have ended the war on clean coal.  We are now an exporter of energy to the world.\" -@POTUS #SOTU',\n",
       " \"Fixing our nation's broken immigration system shouldn't be a partisan issue. That's why, I signed a discharge petition to force the House of Representatives to vote on critical immigration policy. We must repair our system, protect DACA recipients, and secure our borders.pic.twitter.com/9T4z9KCiMN\",\n",
       " 'To law enforcement in NC and across the US - thank you for your service. Without you, the American Dream would not be possible. #BackTheBluepic.twitter.com/Q4wImnIign',\n",
       " '\"We will block the Administration\\\\\\'s war on all forms of energy in this country. The American people deserve it.\"pic.twitter.com/V2Ae0ZdQCN',\n",
       " 'The @HouseCommerce Energy and Power Subcmte is set to examine the new EPA rules for existing power plants in June. http://energycommerce.house.gov/press-release/upton-and-whitfield-respond-epas-cap-and-trade-proposal...',\n",
       " 'The #TaxCutsandJobsAct means big things for everyday American families all across Southeastern Michigan and the United States. Relief is heading your way!https://fairandsimple.gop',\n",
       " 'RT @SpeakerBoehner: One way to help students with loans is by making it easier for them to find good-paying #jobs: http://bit.ly/1xyYtlb',\n",
       " \"#DREAMers are Americans. Ending #DACA would be a cruel & stupid mistake. Trump admin should do what's right & #DefendDACA.\",\n",
       " 'Still pushing House GOP to allow an up-or-down vote on my bill to prevent student loan interest rates from doubling. #DontDoubleMyRate',\n",
       " 'President Obama was right to protect 750,000 young men and women, including more than 8,000 Tennesseans, from the cruelty of deportation.https://twitter.com/politico/status/904500106107523073...',\n",
       " 'As we celebrate Labor Day, let us acknowledge and pay tribute to the millions of hard working Americans who each... http://fb.me/6iKkEMUUJ',\n",
       " 'FACT: A raise in the minimum wage will increase the pay of low-income workers by $31 billion: http://goo.gl/ArLUYX #RaiseTheWage',\n",
       " '#ACA Number to know: Up to 17 million kids with pre-existing conditions can no longer be denied coverage by insurers.']"
      ]
     },
     "execution_count": 23,
     "metadata": {},
     "output_type": "execute_result"
    }
   ],
   "source": [
    "# Predicted attack but wasn't:\n",
    "idx=np.logical_and(y_pred_test>eps[f1max_ind], y_test!=1)\n",
    "idx=idx[idx].index\n",
    "list(df.loc[idx].text)"
   ]
  },
  {
   "cell_type": "code",
   "execution_count": 24,
   "metadata": {},
   "outputs": [
    {
     "data": {
      "text/plain": [
       "['About to join @hardball on @MSNBC to discuss Republicans refusal to face reality of @TheJusticeDept IG report, which found no evidence of bias in the investigation.https://twitter.com/hardball/status/1007393245163409408...',\n",
       " \"The 20 week abortion ban signed by @GovWalker today is an attack on women's reproductive health: http://pocan.house.gov/media-center/press-releases/pocan-condemns-wisconsin-s-20-week-abortion-ban... #StopTheBans\",\n",
       " 'Another example of \"spendulus\" bill doing more harm than good http://tinyurl.com/oztxn6',\n",
       " \"@RepPaulRyan Which is why you're including the revenues from the fiscal cliff deal in your budget? #RyanBudgetFail\",\n",
       " 'This court ruling is an important victory. The implementation of #Obamacare was illegal and its policies are harmful. http://thehill.com/policy/healthcare/253115-court-allows-boehner-lawsuit-against-obamacare-to-move-forward...',\n",
       " \"Prayers for #NiceFrance\\\\xe2\\\\x80\\\\x94yet another wake-up call to challenges free world faces from jihad. It's time to get tough!pic.twitter.com/X0peCpr73j\",\n",
       " 'Thxhttps://twitter.com/foxnews/status/959709302217785344...',\n",
       " 'Chaffetz, Cummings Refer Former CSB Chairman to DOJ for Criminal Prosecution https://oversight.house.gov/release/chaffetz-cummings-refer-former-csb-chairman-doj-criminal-prosecution/... via @GOPOversight',\n",
       " 'Average premium prices in Graham County will increase by 744% under #AHCA. http://kff.org/interactive/tax-credits-under-the-affordable-care-act-vs-replacement-proposal-interactive-map/... #AZ01pic.twitter.com/aQSXOPXgmk',\n",
       " \"Yesterday's BOE decision=a setback. But we can keep working to give NYers trust in their electoral process: http://bit.ly/1733dkE #nyc2013\",\n",
       " 'A great day for #Dreamers & a great day for #California! @realdonaldtrump tried to skirt the rule in requesting #SCOTUS review our #DACA case. The Court said no: https://www.washingtonpost.com/politics/courts_law/supreme-court-declines-trump-request-to-take-up-daca-controversy-now/2018/02/26/4fb2e528-132f-11e8-9570-29c9830535e5_story.html?utm_term=.e325186936b6... #ProtectDACA',\n",
       " \"My statement on today's health care vote: http://hultgren.house.gov/newsroom/press-releases/hultgren-on-health-care-vote...pic.twitter.com/RmxPDYvLsX\",\n",
       " '.@GovSandoval knows what we all do: The #GrahamCassidy repeal bill is not in the best interests of Nevadans.http://thehill.com/policy/healthcare/health-reform-implementation/351514-analysis-shows-states-would-lose-billions...',\n",
       " \"No matter how they look at the Police Chief's answers, it is deceptive if not incompetent.\",\n",
       " 'Russia needs to stop violating the agreed upon cease fire and end the violent attacks in eastern Ukraine. https://kaptur.house.gov/media-center/press-releases/kaptur-introduces-bipartisan-house-resolution-calling-russia-stop...pic.twitter.com/YbeU3eSMsg',\n",
       " 'Today the #FDA revoked the approval of metastatic #breastcancer treatment drug #Avastin - I am deeply disapointed http://goo.gl/VvYJi',\n",
       " \"VIDEO: The President's @PressSec admits the sequester was @BarackObama's idea http://bit.ly/V65mux #Obamaquester #SOTU\",\n",
       " 'Middle class relief?https://twitter.com/CBSNews/status/923039434223882240...',\n",
       " \"LIVE NOW: I'm talking to Dr. Bradley Gilbert of @IEHP_healthcare about the impact of #TrumpCare on our region. https://www.facebook.com/RepMarkTakano/\",\n",
       " '\\\\xe2\\\\x80\\\\x9c@stevenfhayward: One quick way Obama could slice a 10 to 15 cents off the price of gasoline. http://www.powerlineblog.com/archives/2012/03/bureaucratic-gas.php...\\\\xe2\\\\x80\\\\x9d',\n",
       " 'I just spoke on the floor of the U.S. House in support of ending this reckless government shutdown: http://youtu.be/ML2U05dEYgU #EnoughAlready',\n",
       " '#obstructionofjustice #TrumpRussia #coveruphttps://twitter.com/davidaxelrod/status/864609258935111684...']"
      ]
     },
     "execution_count": 24,
     "metadata": {},
     "output_type": "execute_result"
    }
   ],
   "source": [
    "# Predicted non-attack but was:\n",
    "idx=np.logical_and(y_pred_test<=eps[f1max_ind], y_test==1)\n",
    "idx=idx[idx].index\n",
    "list(df.loc[idx].text)"
   ]
  },
  {
   "cell_type": "code",
   "execution_count": null,
   "metadata": {},
   "outputs": [],
   "source": []
  }
 ],
 "metadata": {
  "kernelspec": {
   "display_name": "Python 3",
   "language": "python",
   "name": "python3"
  },
  "language_info": {
   "codemirror_mode": {
    "name": "ipython",
    "version": 3
   },
   "file_extension": ".py",
   "mimetype": "text/x-python",
   "name": "python",
   "nbconvert_exporter": "python",
   "pygments_lexer": "ipython3",
   "version": "3.7.1"
  }
 },
 "nbformat": 4,
 "nbformat_minor": 2
}
