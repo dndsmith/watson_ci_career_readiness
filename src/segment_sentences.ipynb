{
 "cells": [
  {
   "cell_type": "code",
   "execution_count": 2,
   "metadata": {},
   "outputs": [],
   "source": [
    "import pandas as pd\n",
    "import spacy\n",
    "import re\n",
    "\n",
    "nlp = spacy.load('en_core_web_sm')"
   ]
  },
  {
   "cell_type": "markdown",
   "metadata": {},
   "source": [
    "## Extract the sentences from the text and put the sentences into a list of pandas dataframes"
   ]
  },
  {
   "cell_type": "code",
   "execution_count": 7,
   "metadata": {},
   "outputs": [],
   "source": [
    "ID = 0\n",
    "all_entries = []\n",
    "\n",
    "with open(\"../data/competencies.csv\", \"r\") as in_file:\n",
    "    for line in in_file:\n",
    "        # skip the \"text, leadership\" lines\n",
    "        if ID == 0:\n",
    "            ID += 1\n",
    "            continue\n",
    "            \n",
    "        doc = nlp(line[:-3])\n",
    "        spacy_sents = list(doc.sents)\n",
    "        \n",
    "        one_entry = pd.DataFrame()\n",
    "        \n",
    "        # split the line up wherever there is a '.', '?', or '!'\n",
    "        sentences = re.split(r\"[.!?]\", line[:-3])\n",
    "        sentences.pop()\n",
    "        \n",
    "        one_entry['ID'] = [ID for i in range(len(spacy_sents))]\n",
    "        one_entry['PID'] = [str(ID)+'-'+str(i) for i in range(len(spacy_sents))]\n",
    "        one_entry['Text'] = [spacy_sents[i] for i in range(len(spacy_sents))]\n",
    "        \n",
    "        #print(one_entry)\n",
    "        ID += 1\n",
    "        all_entries.append(one_entry)"
   ]
  },
  {
   "cell_type": "markdown",
   "metadata": {},
   "source": [
    "## Concat the list of dataframes into one big table"
   ]
  },
  {
   "cell_type": "code",
   "execution_count": 8,
   "metadata": {},
   "outputs": [],
   "source": [
    "big_table = pd.concat(all_entries)\n",
    "#print(big_table)"
   ]
  },
  {
   "cell_type": "markdown",
   "metadata": {},
   "source": [
    "## Write to a csv file"
   ]
  },
  {
   "cell_type": "code",
   "execution_count": 9,
   "metadata": {},
   "outputs": [],
   "source": [
    "big_table.to_csv(path_or_buf=\"../data/segmented_sentences.csv\", index=False)"
   ]
  },
  {
   "cell_type": "code",
   "execution_count": null,
   "metadata": {},
   "outputs": [],
   "source": []
  }
 ],
 "metadata": {
  "kernelspec": {
   "display_name": "Python 3",
   "language": "python",
   "name": "python3"
  },
  "language_info": {
   "codemirror_mode": {
    "name": "ipython",
    "version": 3
   },
   "file_extension": ".py",
   "mimetype": "text/x-python",
   "name": "python",
   "nbconvert_exporter": "python",
   "pygments_lexer": "ipython3",
   "version": "3.7.1"
  }
 },
 "nbformat": 4,
 "nbformat_minor": 2
}
