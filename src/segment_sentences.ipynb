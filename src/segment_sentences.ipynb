{
 "cells": [
  {
   "cell_type": "code",
   "execution_count": 20,
   "metadata": {},
   "outputs": [],
   "source": [
    "import pandas as pd\n",
    "import spacy\n",
    "import re\n",
    "\n",
    "nlp = spacy.load('en_core_web_sm')"
   ]
  },
  {
   "cell_type": "markdown",
   "metadata": {},
   "source": [
    "## Extract the sentences from the text and put the sentences into a list of pandas dataframes"
   ]
  },
  {
   "cell_type": "code",
   "execution_count": 22,
   "metadata": {},
   "outputs": [],
   "source": [
    "ID = 0\n",
    "all_sents = []\n",
    "all_commas = []\n",
    "\n",
    "with open(\"../data/set1.csv\", \"r\") as in_file:\n",
    "    for line in in_file:\n",
    "        # skip the \"text, leadership\" lines\n",
    "        if ID == 0:\n",
    "            ID += 1\n",
    "            continue\n",
    "            \n",
    "        doc = nlp(line[:-8])\n",
    "        sentences = list(doc.sents)\n",
    "        commas = re.split(r\"[!.?;,]\", line[:-9])\n",
    "\n",
    "        sent_entry = pd.DataFrame()\n",
    "        comma_entry = pd.DataFrame()\n",
    "        \n",
    "        sent_entry['ID'] = [ID for i in range(len(sentences))]\n",
    "        sent_entry['PID'] = [str(ID)+'_'+str(i) for i in range(len(sentences))]\n",
    "        sent_entry['Text'] = [sentences[i] for i in range(len(sentences))]\n",
    "        \n",
    "        comma_entry['ID'] = [ID for i in range(len(commas))]\n",
    "        comma_entry['PID'] = [str(ID)+'_'+str(i) for i in range(len(commas))]\n",
    "        comma_entry['Text'] = [commas[i] for i in range(len(commas))]\n",
    "        \n",
    "        all_sents.append(sent_entry)\n",
    "        all_commas.append(comma_entry)\n",
    "        ID += 1"
   ]
  },
  {
   "cell_type": "markdown",
   "metadata": {},
   "source": [
    "## Concat the list of dataframes into one big table"
   ]
  },
  {
   "cell_type": "code",
   "execution_count": 23,
   "metadata": {},
   "outputs": [],
   "source": [
    "big_sents_table = pd.concat(all_sents)\n",
    "big_commas_table = pd.concat(all_commas)"
   ]
  },
  {
   "cell_type": "markdown",
   "metadata": {},
   "source": [
    "## Write to a csv file"
   ]
  },
  {
   "cell_type": "code",
   "execution_count": 24,
   "metadata": {},
   "outputs": [],
   "source": [
    "big_sents_table.to_csv(path_or_buf=\"../data/segmented_sentences.csv\", index=False)\n",
    "big_commas_table.to_csv(path_or_buf=\"../data/segmented_commas.csv\", index=False)"
   ]
  },
  {
   "cell_type": "code",
   "execution_count": null,
   "metadata": {},
   "outputs": [],
   "source": []
  }
 ],
 "metadata": {
  "kernelspec": {
   "display_name": "Python 3",
   "language": "python",
   "name": "python3"
  },
  "language_info": {
   "codemirror_mode": {
    "name": "ipython",
    "version": 3
   },
   "file_extension": ".py",
   "mimetype": "text/x-python",
   "name": "python",
   "nbconvert_exporter": "python",
   "pygments_lexer": "ipython3",
   "version": "3.7.1"
  }
 },
 "nbformat": 4,
 "nbformat_minor": 2
}
