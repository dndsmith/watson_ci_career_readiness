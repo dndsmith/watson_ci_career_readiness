{
 "cells": [
  {
   "cell_type": "code",
   "execution_count": 6,
   "metadata": {},
   "outputs": [],
   "source": [
    "import numpy as np\n",
    "import pandas as pd\n",
    "# added the two lines below\n",
    "import nltk\n",
    "#ntlk.download('stopwords')\n",
    "#nltk.download('punkt')\n",
    "import re\n",
    "import string\n",
    "from sklearn.model_selection import train_test_split\n",
    "from sklearn.feature_extraction.text import CountVectorizer, TfidfVectorizer\n",
    "from sklearn.linear_model import LogisticRegression\n",
    "from sklearn.model_selection import GridSearchCV\n",
    "from nltk.corpus import stopwords \n",
    "from nltk.tokenize import word_tokenize \n",
    "%matplotlib inline"
   ]
  },
  {
   "cell_type": "markdown",
   "metadata": {},
   "source": [
    "## Load and clean the data"
   ]
  },
  {
   "cell_type": "code",
   "execution_count": 12,
   "metadata": {},
   "outputs": [],
   "source": [
    "df = pd.read_csv('C:\\\\Users\\\\mschul3\\\\Documents\\\\WatsonCI\\\\competencies.csv', encoding='latin-1')\n",
    "\n",
    "# select the transformational and text columns\n",
    "df = df[['transformational', 'text']]\n",
    "\n",
    "# drop rows with nan values\n",
    "df = df.dropna()\n",
    "\n",
    "# drop any with all white-space text\n",
    "df.text = df.text.str.strip()\n",
    "# added the line below based on: https://stackoverflow.com/questions/22216076/unicodedecodeerror-utf8-codec-cant-decode-byte-0xa5-in-position-0-invalid-s\n",
    "#df.text = df.text.encode('utf-8').strip()\n",
    "df = df[df.text!='']\n",
    "\n",
    "df.transformational = df.transformational.astype('int')"
   ]
  },
  {
   "cell_type": "code",
   "execution_count": 13,
   "metadata": {},
   "outputs": [
    {
     "data": {
      "text/plain": [
       "0     1\n",
       "1     1\n",
       "2     0\n",
       "3     0\n",
       "4     1\n",
       "5     1\n",
       "6     1\n",
       "7     0\n",
       "8     0\n",
       "9     1\n",
       "10    0\n",
       "11    1\n",
       "12    0\n",
       "13    0\n",
       "14    0\n",
       "15    1\n",
       "16    1\n",
       "17    1\n",
       "18    1\n",
       "19    1\n",
       "20    1\n",
       "21    1\n",
       "22    0\n",
       "23    1\n",
       "24    0\n",
       "Name: transformational, dtype: int32"
      ]
     },
     "execution_count": 13,
     "metadata": {},
     "output_type": "execute_result"
    }
   ],
   "source": [
    "# convert the attack column to an integer\n",
    "df.transformational"
   ]
  },
  {
   "cell_type": "markdown",
   "metadata": {},
   "source": [
    "## Look at the data"
   ]
  },
  {
   "cell_type": "code",
   "execution_count": 14,
   "metadata": {},
   "outputs": [
    {
     "data": {
      "text/html": [
       "<div>\n",
       "<style scoped>\n",
       "    .dataframe tbody tr th:only-of-type {\n",
       "        vertical-align: middle;\n",
       "    }\n",
       "\n",
       "    .dataframe tbody tr th {\n",
       "        vertical-align: top;\n",
       "    }\n",
       "\n",
       "    .dataframe thead th {\n",
       "        text-align: right;\n",
       "    }\n",
       "</style>\n",
       "<table border=\"1\" class=\"dataframe\">\n",
       "  <thead>\n",
       "    <tr style=\"text-align: right;\">\n",
       "      <th></th>\n",
       "      <th>transformational</th>\n",
       "      <th>text</th>\n",
       "    </tr>\n",
       "  </thead>\n",
       "  <tbody>\n",
       "    <tr>\n",
       "      <th>0</th>\n",
       "      <td>1</td>\n",
       "      <td>A large component of my internship involves em...</td>\n",
       "    </tr>\n",
       "    <tr>\n",
       "      <th>1</th>\n",
       "      <td>1</td>\n",
       "      <td>A significant part of my position was to act a...</td>\n",
       "    </tr>\n",
       "    <tr>\n",
       "      <th>2</th>\n",
       "      <td>0</td>\n",
       "      <td>During the semester I trained new interns on f...</td>\n",
       "    </tr>\n",
       "    <tr>\n",
       "      <th>3</th>\n",
       "      <td>0</td>\n",
       "      <td>As a director, I am forced to take the lead on...</td>\n",
       "    </tr>\n",
       "    <tr>\n",
       "      <th>4</th>\n",
       "      <td>1</td>\n",
       "      <td>As a part of my internship, I was invited to g...</td>\n",
       "    </tr>\n",
       "  </tbody>\n",
       "</table>\n",
       "</div>"
      ],
      "text/plain": [
       "   transformational                                               text\n",
       "0                 1  A large component of my internship involves em...\n",
       "1                 1  A significant part of my position was to act a...\n",
       "2                 0  During the semester I trained new interns on f...\n",
       "3                 0  As a director, I am forced to take the lead on...\n",
       "4                 1  As a part of my internship, I was invited to g..."
      ]
     },
     "execution_count": 14,
     "metadata": {},
     "output_type": "execute_result"
    }
   ],
   "source": [
    "df.head()"
   ]
  },
  {
   "cell_type": "code",
   "execution_count": 16,
   "metadata": {},
   "outputs": [
    {
     "data": {
      "text/html": [
       "<div>\n",
       "<style scoped>\n",
       "    .dataframe tbody tr th:only-of-type {\n",
       "        vertical-align: middle;\n",
       "    }\n",
       "\n",
       "    .dataframe tbody tr th {\n",
       "        vertical-align: top;\n",
       "    }\n",
       "\n",
       "    .dataframe thead th {\n",
       "        text-align: right;\n",
       "    }\n",
       "</style>\n",
       "<table border=\"1\" class=\"dataframe\">\n",
       "  <thead>\n",
       "    <tr style=\"text-align: right;\">\n",
       "      <th></th>\n",
       "      <th>text</th>\n",
       "    </tr>\n",
       "    <tr>\n",
       "      <th>transformational</th>\n",
       "      <th></th>\n",
       "    </tr>\n",
       "  </thead>\n",
       "  <tbody>\n",
       "    <tr>\n",
       "      <th>0</th>\n",
       "      <td>10</td>\n",
       "    </tr>\n",
       "    <tr>\n",
       "      <th>1</th>\n",
       "      <td>15</td>\n",
       "    </tr>\n",
       "  </tbody>\n",
       "</table>\n",
       "</div>"
      ],
      "text/plain": [
       "                  text\n",
       "transformational      \n",
       "0                   10\n",
       "1                   15"
      ]
     },
     "execution_count": 16,
     "metadata": {},
     "output_type": "execute_result"
    }
   ],
   "source": [
    "# look at number of attacks.\n",
    "# 0: not attack\n",
    "# 1: attack\n",
    "df.groupby('transformational').count()"
   ]
  },
  {
   "cell_type": "markdown",
   "metadata": {},
   "source": [
    "Note that there are many more _non-attacks_ than _attacks_. This is called class imbalance and can lead to challenges for modeling and model evaluation."
   ]
  },
  {
   "cell_type": "code",
   "execution_count": 17,
   "metadata": {},
   "outputs": [
    {
     "data": {
      "text/plain": [
       "[\"I am technically above over 8 people on the CEDC organization chart, which at one time would've scared me. Now, I feel comfortable delegating work and trusting my teammates, to the point where  I am now taking on a large leadership role next semester as Assistant Program Director.\",\n",
       " 'As the Director, I had to encourage my team to reach their full potential for the betterment of  Organization. I communicated their accomplishments to the outlet heads so that they could see that we were a resource for them to use.',\n",
       " 'As an intern at Clemson CAPS, I assist the broader organizational goals of the entire organization by promoting mental health awareness, and using my unique position as both Clemson student, and CAPS employee to promote the services we provide and assist in executing the long term goals of the organization. For example, I attended a Health Fair put on by Clemson where Person and I handed out brochures of the various programs CAPS offers, and met with interested students to walk them through the process of requesting counseling and meeting with clinicians in CAPS.',\n",
       " 'As team lead, it is important to recognize and capitalize on the unique strengths of team members in order to maximize effectiveness. I was able to do this by identifying individual skills and personalities in team members and encouraging them to apply them to their work for the betterment of the Organization.',\n",
       " 'As a part of my internship, I was invited to give a presentation to the Spiro Advisory Board ahead of the annual Pitch Smackdown. This is a board of Clemson Alumni, professors, and other influential venture capitalists and angel investors with a vested interest in Clemson entrepreneurship. During my presentation, I established a rapport and sense of purpose behind my and Dr. Mentor\\x92s case study initiative focused on highlighting alumni entrepreneurship and encouraging student entrepreneurship.',\n",
       " 'Being in charge of the graphics team, there were many instances where I was able to direct and lead members to achieve a vision I had if the task was delegated to them. There were many instances where I would be overwhelmed with large projects, but would effectively communicate the plan and vision with others so that they could create the graphics I needed.',\n",
       " 'Aligning group objectives with global objectives was one of my primary roles in my internship. I was working with teams who are working on a variety of projects to address needs in Haiti. In order to help them progress, I would often help them align their narrow objectives such as writing a literature review to why they are doing it. There was a constant need for relating small goals to global issues, particularly the global water crisis.',\n",
       " 'I work to lead creative inquiry groups and other interested on campus organizations in serving as an extension of the Clemson agricultural extension program and working to connect the community and Clemson students to local food systems.',\n",
       " \"I define leadership as an influence on the others around you. How I showed leadership this semester was always encouraging if someone doesn't know something, ask, so we can find that solution. If I don't know that solution, the internet is a great tool. This promote collaboration and technology skills.\",\n",
       " 'As the director of Technical Solutions, I provided my assistance to other groups and my group member as needed, enabling them to achieve their goals. I also discussed accomplishments and team progress to the CEDC board of directors in weekly meetings.']"
      ]
     },
     "execution_count": 17,
     "metadata": {},
     "output_type": "execute_result"
    }
   ],
   "source": [
    "# show ten random tweets\n",
    "list(df.sample(10, replace=False).text)"
   ]
  },
  {
   "cell_type": "markdown",
   "metadata": {},
   "source": [
    "## Preprocess text\n",
    "Preprocessing is one of the subtlest parts of natural language processing. For brevity, we perform only the most basic steps. "
   ]
  },
  {
   "cell_type": "code",
   "execution_count": 18,
   "metadata": {},
   "outputs": [],
   "source": [
    "# replace all punctuation with space\n",
    "def remove_punctuation(txt):\n",
    "    #txt = txt.translate(None, string.punctuation)\n",
    "    txt = txt.translate(str.maketrans('','',string.punctuation))\n",
    "    \n",
    "    return txt\n",
    "\n",
    "# lowercase text\n",
    "def lowercase(txt):\n",
    "    txt = txt.lower()\n",
    "    # TODO: more nuanced rules...\n",
    "    return txt\n",
    "\n",
    "# remove stopwords\n",
    "def remove_stopwords(txt):\n",
    "    stop_words = set(stopwords.words('english')) \n",
    "    toks = word_tokenize(txt) \n",
    "    toks = [w for w in toks if not w in stop_words]\n",
    "    txt = \" \".join(toks)\n",
    "    \n",
    "    return txt\n",
    "\n",
    "# TODO: perform other steps...\n",
    "\n",
    "# put all steps together\n",
    "def preproc(txt):\n",
    "    txt = remove_punctuation(txt)\n",
    "    txt = lowercase(txt)\n",
    "    txt = remove_stopwords(txt)\n",
    "    #TODO: other steps...\n",
    "    \n",
    "    return txt    "
   ]
  },
  {
   "cell_type": "code",
   "execution_count": 19,
   "metadata": {},
   "outputs": [
    {
     "data": {
      "text/plain": [
       "'lights sooooo bright'"
      ]
     },
     "execution_count": 19,
     "metadata": {},
     "output_type": "execute_result"
    }
   ],
   "source": [
    "# try it out on some text\n",
    "preproc(\"why are the lights sooooo bright\")"
   ]
  },
  {
   "cell_type": "code",
   "execution_count": 20,
   "metadata": {},
   "outputs": [],
   "source": [
    "# Apply the preprocessing to our text\n",
    "df['text_proc'] = df.text.apply(lambda txt: preproc(txt))"
   ]
  },
  {
   "cell_type": "code",
   "execution_count": 21,
   "metadata": {},
   "outputs": [
    {
     "data": {
      "text/html": [
       "<div>\n",
       "<style scoped>\n",
       "    .dataframe tbody tr th:only-of-type {\n",
       "        vertical-align: middle;\n",
       "    }\n",
       "\n",
       "    .dataframe tbody tr th {\n",
       "        vertical-align: top;\n",
       "    }\n",
       "\n",
       "    .dataframe thead th {\n",
       "        text-align: right;\n",
       "    }\n",
       "</style>\n",
       "<table border=\"1\" class=\"dataframe\">\n",
       "  <thead>\n",
       "    <tr style=\"text-align: right;\">\n",
       "      <th></th>\n",
       "      <th>text</th>\n",
       "      <th>text_proc</th>\n",
       "    </tr>\n",
       "  </thead>\n",
       "  <tbody>\n",
       "    <tr>\n",
       "      <th>24</th>\n",
       "      <td>Intern brings a level a poise to the work she ...</td>\n",
       "      <td>intern brings level poise work othere peer gro...</td>\n",
       "    </tr>\n",
       "    <tr>\n",
       "      <th>16</th>\n",
       "      <td>As team lead, it is important to recognize and...</td>\n",
       "      <td>team lead important recognize capitalize uniqu...</td>\n",
       "    </tr>\n",
       "    <tr>\n",
       "      <th>19</th>\n",
       "      <td>I support everyone in our office and I try to ...</td>\n",
       "      <td>support everyone office try empower others str...</td>\n",
       "    </tr>\n",
       "    <tr>\n",
       "      <th>3</th>\n",
       "      <td>As a director, I am forced to take the lead on...</td>\n",
       "      <td>director forced take lead projects things may ...</td>\n",
       "    </tr>\n",
       "    <tr>\n",
       "      <th>5</th>\n",
       "      <td>As an intern at Clemson CAPS, I assist the bro...</td>\n",
       "      <td>intern clemson caps assist broader organizatio...</td>\n",
       "    </tr>\n",
       "    <tr>\n",
       "      <th>11</th>\n",
       "      <td>At Organization we do this every single day. T...</td>\n",
       "      <td>organization every single day environment noth...</td>\n",
       "    </tr>\n",
       "    <tr>\n",
       "      <th>7</th>\n",
       "      <td>As I mentioned in the collaboration section, t...</td>\n",
       "      <td>mentioned collaboration section another intern...</td>\n",
       "    </tr>\n",
       "    <tr>\n",
       "      <th>1</th>\n",
       "      <td>A significant part of my position was to act a...</td>\n",
       "      <td>significant part position act president busine...</td>\n",
       "    </tr>\n",
       "    <tr>\n",
       "      <th>12</th>\n",
       "      <td>Being in charge of the graphics team, there we...</td>\n",
       "      <td>charge graphics team many instances able direc...</td>\n",
       "    </tr>\n",
       "    <tr>\n",
       "      <th>14</th>\n",
       "      <td>I had a problem mid-way through the semester w...</td>\n",
       "      <td>problem midway semester higher ups responsible...</td>\n",
       "    </tr>\n",
       "    <tr>\n",
       "      <th>10</th>\n",
       "      <td>I became well versed in making sure everyone w...</td>\n",
       "      <td>became well versed making sure everyone tasks ...</td>\n",
       "    </tr>\n",
       "    <tr>\n",
       "      <th>8</th>\n",
       "      <td>I am technically above over 8 people on the CE...</td>\n",
       "      <td>technically 8 people cedc organization chart o...</td>\n",
       "    </tr>\n",
       "    <tr>\n",
       "      <th>4</th>\n",
       "      <td>As a part of my internship, I was invited to g...</td>\n",
       "      <td>part internship invited give presentation spir...</td>\n",
       "    </tr>\n",
       "    <tr>\n",
       "      <th>21</th>\n",
       "      <td>Many of the other student workers would ask me...</td>\n",
       "      <td>many student workers would ask today would wor...</td>\n",
       "    </tr>\n",
       "    <tr>\n",
       "      <th>9</th>\n",
       "      <td>As the Director, I had to encourage my team to...</td>\n",
       "      <td>director encourage team reach full potential b...</td>\n",
       "    </tr>\n",
       "    <tr>\n",
       "      <th>6</th>\n",
       "      <td>As I am working in a small company, we have a ...</td>\n",
       "      <td>working small company interactive friendly atm...</td>\n",
       "    </tr>\n",
       "    <tr>\n",
       "      <th>15</th>\n",
       "      <td>Aligning group objectives with global objectiv...</td>\n",
       "      <td>aligning group objectives global objectives on...</td>\n",
       "    </tr>\n",
       "    <tr>\n",
       "      <th>23</th>\n",
       "      <td>Interns ability to lead and inspire those aro...</td>\n",
       "      <td>interns ability lead inspire around inspiring...</td>\n",
       "    </tr>\n",
       "    <tr>\n",
       "      <th>0</th>\n",
       "      <td>A large component of my internship involves em...</td>\n",
       "      <td>large component internship involves empowering...</td>\n",
       "    </tr>\n",
       "    <tr>\n",
       "      <th>2</th>\n",
       "      <td>During the semester I trained new interns on f...</td>\n",
       "      <td>semester trained new interns fundamental tasks...</td>\n",
       "    </tr>\n",
       "  </tbody>\n",
       "</table>\n",
       "</div>"
      ],
      "text/plain": [
       "                                                 text  \\\n",
       "24  Intern brings a level a poise to the work she ...   \n",
       "16  As team lead, it is important to recognize and...   \n",
       "19  I support everyone in our office and I try to ...   \n",
       "3   As a director, I am forced to take the lead on...   \n",
       "5   As an intern at Clemson CAPS, I assist the bro...   \n",
       "11  At Organization we do this every single day. T...   \n",
       "7   As I mentioned in the collaboration section, t...   \n",
       "1   A significant part of my position was to act a...   \n",
       "12  Being in charge of the graphics team, there we...   \n",
       "14  I had a problem mid-way through the semester w...   \n",
       "10  I became well versed in making sure everyone w...   \n",
       "8   I am technically above over 8 people on the CE...   \n",
       "4   As a part of my internship, I was invited to g...   \n",
       "21  Many of the other student workers would ask me...   \n",
       "9   As the Director, I had to encourage my team to...   \n",
       "6   As I am working in a small company, we have a ...   \n",
       "15  Aligning group objectives with global objectiv...   \n",
       "23  Interns ability to lead and inspire those aro...   \n",
       "0   A large component of my internship involves em...   \n",
       "2   During the semester I trained new interns on f...   \n",
       "\n",
       "                                            text_proc  \n",
       "24  intern brings level poise work othere peer gro...  \n",
       "16  team lead important recognize capitalize uniqu...  \n",
       "19  support everyone office try empower others str...  \n",
       "3   director forced take lead projects things may ...  \n",
       "5   intern clemson caps assist broader organizatio...  \n",
       "11  organization every single day environment noth...  \n",
       "7   mentioned collaboration section another intern...  \n",
       "1   significant part position act president busine...  \n",
       "12  charge graphics team many instances able direc...  \n",
       "14  problem midway semester higher ups responsible...  \n",
       "10  became well versed making sure everyone tasks ...  \n",
       "8   technically 8 people cedc organization chart o...  \n",
       "4   part internship invited give presentation spir...  \n",
       "21  many student workers would ask today would wor...  \n",
       "9   director encourage team reach full potential b...  \n",
       "6   working small company interactive friendly atm...  \n",
       "15  aligning group objectives global objectives on...  \n",
       "23  interns ability lead inspire around inspiring...  \n",
       "0   large component internship involves empowering...  \n",
       "2   semester trained new interns fundamental tasks...  "
      ]
     },
     "execution_count": 21,
     "metadata": {},
     "output_type": "execute_result"
    }
   ],
   "source": [
    "# Take a look at the processed txt\n",
    "df.sample(20, replace=False)[['text', 'text_proc']]"
   ]
  },
  {
   "cell_type": "markdown",
   "metadata": {},
   "source": [
    "## Bag of words model"
   ]
  },
  {
   "cell_type": "code",
   "execution_count": 22,
   "metadata": {},
   "outputs": [
    {
     "data": {
      "text/plain": [
       "(25,)"
      ]
     },
     "execution_count": 22,
     "metadata": {},
     "output_type": "execute_result"
    }
   ],
   "source": [
    "# select data for modeling\n",
    "y = df['transformational']\n",
    "X = df['text_proc'] \n",
    "X.shape"
   ]
  },
  {
   "cell_type": "code",
   "execution_count": 85,
   "metadata": {},
   "outputs": [
    {
     "data": {
      "text/plain": [
       "(25, 112)"
      ]
     },
     "execution_count": 85,
     "metadata": {},
     "output_type": "execute_result"
    }
   ],
   "source": [
    "# get count features\n",
    "count_vect = CountVectorizer(\n",
    "    ngram_range=(1,2),\n",
    "    strip_accents='unicode',\n",
    "    min_df = 2 # min document frequency; every unigram/bigram repeated less than 5 times is discarded\n",
    "    )\n",
    "X_counts = count_vect.fit_transform(X)\n",
    "X_counts.shape # shape gives us dimensions of an array"
   ]
  },
  {
   "cell_type": "code",
   "execution_count": 86,
   "metadata": {},
   "outputs": [],
   "source": [
    "# hold-out some data for final validation - don't need to worry about this right now\n",
    "X_counts_train, X_counts_test, y_train, y_test = train_test_split(X_counts, y, test_size=0.0, random_state=42)"
   ]
  },
  {
   "cell_type": "code",
   "execution_count": 90,
   "metadata": {},
   "outputs": [
    {
     "name": "stdout",
     "output_type": "stream",
     "text": [
      "Fitting 30 folds for each of 10 candidates, totalling 300 fits\n"
     ]
    },
    {
     "name": "stderr",
     "output_type": "stream",
     "text": [
      "[Parallel(n_jobs=6)]: Using backend LokyBackend with 6 concurrent workers.\n",
      "[Parallel(n_jobs=6)]: Done   6 tasks      | elapsed:    0.0s\n"
     ]
    },
    {
     "name": "stdout",
     "output_type": "stream",
     "text": [
      "GridSearchCV(cv=<sklearn.model_selection._split.RepeatedStratifiedKFold object at 0x0000021E58DEA2B0>,\n",
      "       error_score='raise-deprecating',\n",
      "       estimator=LogisticRegression(C=1.0, class_weight=None, dual=False, fit_intercept=True,\n",
      "          intercept_scaling=1, max_iter=100, multi_class='warn',\n",
      "          n_jobs=None, penalty='l2', random_state=None, solver='warn',\n",
      "          tol=0.0001, verbose=0, warm_start=False),\n",
      "       fit_params=None, iid='warn', n_jobs=6,\n",
      "       param_grid={'C': array([1.00000e-02, 2.78256e-02, 7.74264e-02, 2.15443e-01, 5.99484e-01,\n",
      "       1.66810e+00, 4.64159e+00, 1.29155e+01, 3.59381e+01, 1.00000e+02])},\n",
      "       pre_dispatch='2*n_jobs', refit=True, return_train_score=True,\n",
      "       scoring=None, verbose=5)\n"
     ]
    },
    {
     "name": "stderr",
     "output_type": "stream",
     "text": [
      "[Parallel(n_jobs=6)]: Done 228 out of 300 | elapsed:    0.3s remaining:    0.0s\n",
      "[Parallel(n_jobs=6)]: Done 300 out of 300 | elapsed:    0.3s finished\n",
      "C:\\Users\\mschul3\\Anaconda3\\lib\\site-packages\\sklearn\\model_selection\\_search.py:841: DeprecationWarning: The default of the `iid` parameter will change from True to False in version 0.22 and will be removed in 0.24. This will change numeric results when test-set sizes are unequal.\n",
      "  DeprecationWarning)\n",
      "C:\\Users\\mschul3\\Anaconda3\\lib\\site-packages\\sklearn\\linear_model\\logistic.py:433: FutureWarning: Default solver will be changed to 'lbfgs' in 0.22. Specify a solver to silence this warning.\n",
      "  FutureWarning)\n"
     ]
    }
   ],
   "source": [
    "# Define and fit the model\n",
    "from sklearn.model_selection import RepeatedStratifiedKFold\n",
    "cv = RepeatedStratifiedKFold(n_splits=3, n_repeats=10)\n",
    "estimator =  LogisticRegression(penalty='l2')\n",
    "params = dict(C=np.logspace(-2,2,10))\n",
    "clf_cv = GridSearchCV(estimator, param_grid=params, cv=cv, verbose=5, n_jobs=6, return_train_score=True)\n",
    "print(clf_cv.fit(X_counts_train, y_train))"
   ]
  },
  {
   "cell_type": "code",
   "execution_count": 91,
   "metadata": {},
   "outputs": [
    {
     "data": {
      "text/plain": [
       "{'mean_fit_time': array([0.00224852, 0.00287685, 0.00221546, 0.00170303, 0.00267841,\n",
       "        0.00249618, 0.00241414, 0.00196772, 0.00211614, 0.00167006]),\n",
       " 'std_fit_time': array([0.00098999, 0.00282721, 0.00107718, 0.00043789, 0.00137121,\n",
       "        0.00118371, 0.00093058, 0.00020199, 0.00021895, 0.00053549]),\n",
       " 'mean_score_time': array([0.0005128 , 0.00039678, 0.00041331, 0.00044638, 0.0004463 ,\n",
       "        0.00162019, 0.00044581, 0.00039647, 0.00049594, 0.00034715]),\n",
       " 'std_score_time': array([0.00032801, 0.00019839, 0.00018484, 0.00014879, 0.00019646,\n",
       "        0.00660986, 0.00019532, 0.00019823, 0.00012814, 0.00026088]),\n",
       " 'param_C': masked_array(data=[0.01, 0.027825594022071243, 0.0774263682681127,\n",
       "                    0.21544346900318834, 0.5994842503189409,\n",
       "                    1.6681005372000592, 4.6415888336127775,\n",
       "                    12.915496650148826, 35.93813663804626, 100.0],\n",
       "              mask=[False, False, False, False, False, False, False, False,\n",
       "                    False, False],\n",
       "        fill_value='?',\n",
       "             dtype=object),\n",
       " 'params': [{'C': 0.01},\n",
       "  {'C': 0.027825594022071243},\n",
       "  {'C': 0.0774263682681127},\n",
       "  {'C': 0.21544346900318834},\n",
       "  {'C': 0.5994842503189409},\n",
       "  {'C': 1.6681005372000592},\n",
       "  {'C': 4.6415888336127775},\n",
       "  {'C': 12.915496650148826},\n",
       "  {'C': 35.93813663804626},\n",
       "  {'C': 100.0}],\n",
       " 'split0_test_score': array([0.55555556, 0.77777778, 0.77777778, 0.77777778, 0.77777778,\n",
       "        0.77777778, 0.77777778, 0.77777778, 0.77777778, 0.77777778]),\n",
       " 'split1_test_score': array([0.625, 0.625, 0.625, 0.625, 0.625, 0.625, 0.625, 0.625, 0.625,\n",
       "        0.625]),\n",
       " 'split2_test_score': array([0.625, 0.625, 0.5  , 0.5  , 0.5  , 0.5  , 0.5  , 0.5  , 0.5  ,\n",
       "        0.5  ]),\n",
       " 'split3_test_score': array([0.66666667, 0.66666667, 0.66666667, 0.77777778, 0.77777778,\n",
       "        0.77777778, 0.77777778, 0.77777778, 0.77777778, 0.77777778]),\n",
       " 'split4_test_score': array([0.75, 0.75, 0.75, 0.75, 0.75, 0.75, 0.75, 0.75, 0.75, 0.75]),\n",
       " 'split5_test_score': array([0.625, 0.625, 0.625, 0.625, 0.625, 0.625, 0.625, 0.625, 0.625,\n",
       "        0.625]),\n",
       " 'split6_test_score': array([0.77777778, 0.77777778, 0.77777778, 0.66666667, 0.55555556,\n",
       "        0.55555556, 0.55555556, 0.55555556, 0.55555556, 0.55555556]),\n",
       " 'split7_test_score': array([0.625, 0.625, 0.625, 0.625, 0.625, 0.625, 0.625, 0.625, 0.625,\n",
       "        0.5  ]),\n",
       " 'split8_test_score': array([0.75, 0.75, 0.75, 0.75, 0.75, 0.75, 0.75, 0.75, 0.75, 0.75]),\n",
       " 'split9_test_score': array([0.66666667, 0.66666667, 0.66666667, 0.66666667, 0.66666667,\n",
       "        0.77777778, 0.66666667, 0.66666667, 0.66666667, 0.66666667]),\n",
       " 'split10_test_score': array([0.75 , 0.75 , 0.75 , 0.75 , 0.75 , 0.75 , 0.75 , 0.875, 0.875,\n",
       "        0.875]),\n",
       " 'split11_test_score': array([0.75, 0.75, 0.75, 0.75, 0.75, 0.75, 0.75, 0.75, 0.75, 0.75]),\n",
       " 'split12_test_score': array([0.66666667, 0.66666667, 0.77777778, 0.77777778, 0.77777778,\n",
       "        0.77777778, 0.77777778, 0.77777778, 0.77777778, 0.77777778]),\n",
       " 'split13_test_score': array([0.625, 0.625, 0.625, 0.625, 0.625, 0.625, 0.625, 0.625, 0.625,\n",
       "        0.625]),\n",
       " 'split14_test_score': array([0.875, 0.875, 0.875, 0.875, 0.875, 0.875, 0.875, 0.875, 0.75 ,\n",
       "        0.75 ]),\n",
       " 'split15_test_score': array([0.88888889, 0.88888889, 0.88888889, 0.77777778, 0.66666667,\n",
       "        0.66666667, 0.66666667, 0.66666667, 0.66666667, 0.66666667]),\n",
       " 'split16_test_score': array([0.75 , 0.625, 0.625, 0.75 , 0.75 , 0.75 , 0.75 , 0.75 , 0.75 ,\n",
       "        0.75 ]),\n",
       " 'split17_test_score': array([0.625, 0.625, 0.625, 0.75 , 0.75 , 0.75 , 0.75 , 0.75 , 0.75 ,\n",
       "        0.75 ]),\n",
       " 'split18_test_score': array([0.66666667, 0.66666667, 0.66666667, 0.66666667, 0.66666667,\n",
       "        0.66666667, 0.66666667, 0.66666667, 0.66666667, 0.66666667]),\n",
       " 'split19_test_score': array([0.625, 0.625, 0.625, 0.625, 0.625, 0.625, 0.75 , 0.75 , 0.75 ,\n",
       "        0.75 ]),\n",
       " 'split20_test_score': array([0.75 , 0.75 , 0.625, 0.625, 0.625, 0.625, 0.625, 0.625, 0.625,\n",
       "        0.625]),\n",
       " 'split21_test_score': array([0.66666667, 0.66666667, 0.66666667, 0.66666667, 0.66666667,\n",
       "        0.66666667, 0.66666667, 0.66666667, 0.77777778, 0.77777778]),\n",
       " 'split22_test_score': array([0.75 , 0.75 , 0.75 , 0.625, 0.625, 0.625, 0.625, 0.625, 0.625,\n",
       "        0.625]),\n",
       " 'split23_test_score': array([0.75 , 0.75 , 0.625, 0.625, 0.625, 0.5  , 0.375, 0.375, 0.375,\n",
       "        0.375]),\n",
       " 'split24_test_score': array([0.88888889, 0.88888889, 0.88888889, 0.77777778, 0.66666667,\n",
       "        0.66666667, 0.66666667, 0.66666667, 0.66666667, 0.66666667]),\n",
       " 'split25_test_score': array([0.625, 0.625, 0.625, 0.625, 0.75 , 0.75 , 0.75 , 0.75 , 0.75 ,\n",
       "        0.75 ]),\n",
       " 'split26_test_score': array([0.75 , 0.75 , 0.75 , 0.75 , 0.75 , 0.75 , 0.875, 0.875, 0.875,\n",
       "        0.875]),\n",
       " 'split27_test_score': array([0.77777778, 0.77777778, 0.77777778, 0.77777778, 0.77777778,\n",
       "        0.77777778, 0.77777778, 0.77777778, 0.77777778, 0.77777778]),\n",
       " 'split28_test_score': array([1.   , 1.   , 0.875, 0.875, 0.875, 0.875, 0.875, 0.875, 0.875,\n",
       "        0.875]),\n",
       " 'split29_test_score': array([0.875, 0.875, 0.875, 0.75 , 0.75 , 0.75 , 0.75 , 0.75 , 0.75 ,\n",
       "        0.75 ]),\n",
       " 'mean_test_score': array([0.724, 0.728, 0.716, 0.708, 0.7  , 0.7  , 0.7  , 0.704, 0.704,\n",
       "        0.7  ]),\n",
       " 'std_test_score': array([0.1018801 , 0.09868243, 0.09921693, 0.08308229, 0.08498366,\n",
       "        0.09219544, 0.10593499, 0.11002828, 0.10669583, 0.1118034 ]),\n",
       " 'rank_test_score': array([2, 1, 3, 4, 7, 7, 7, 5, 5, 7]),\n",
       " 'split0_train_score': array([0.9375, 0.9375, 1.    , 1.    , 1.    , 1.    , 1.    , 1.    ,\n",
       "        1.    , 1.    ]),\n",
       " 'split1_train_score': array([1., 1., 1., 1., 1., 1., 1., 1., 1., 1.]),\n",
       " 'split2_train_score': array([1., 1., 1., 1., 1., 1., 1., 1., 1., 1.]),\n",
       " 'split3_train_score': array([1., 1., 1., 1., 1., 1., 1., 1., 1., 1.]),\n",
       " 'split4_train_score': array([1., 1., 1., 1., 1., 1., 1., 1., 1., 1.]),\n",
       " 'split5_train_score': array([1., 1., 1., 1., 1., 1., 1., 1., 1., 1.]),\n",
       " 'split6_train_score': array([1., 1., 1., 1., 1., 1., 1., 1., 1., 1.]),\n",
       " 'split7_train_score': array([1., 1., 1., 1., 1., 1., 1., 1., 1., 1.]),\n",
       " 'split8_train_score': array([1., 1., 1., 1., 1., 1., 1., 1., 1., 1.]),\n",
       " 'split9_train_score': array([1., 1., 1., 1., 1., 1., 1., 1., 1., 1.]),\n",
       " 'split10_train_score': array([1., 1., 1., 1., 1., 1., 1., 1., 1., 1.]),\n",
       " 'split11_train_score': array([1., 1., 1., 1., 1., 1., 1., 1., 1., 1.]),\n",
       " 'split12_train_score': array([1., 1., 1., 1., 1., 1., 1., 1., 1., 1.]),\n",
       " 'split13_train_score': array([1., 1., 1., 1., 1., 1., 1., 1., 1., 1.]),\n",
       " 'split14_train_score': array([1., 1., 1., 1., 1., 1., 1., 1., 1., 1.]),\n",
       " 'split15_train_score': array([1., 1., 1., 1., 1., 1., 1., 1., 1., 1.]),\n",
       " 'split16_train_score': array([0.94117647, 1.        , 1.        , 1.        , 1.        ,\n",
       "        1.        , 1.        , 1.        , 1.        , 1.        ]),\n",
       " 'split17_train_score': array([1., 1., 1., 1., 1., 1., 1., 1., 1., 1.]),\n",
       " 'split18_train_score': array([0.9375, 1.    , 1.    , 1.    , 1.    , 1.    , 1.    , 1.    ,\n",
       "        1.    , 1.    ]),\n",
       " 'split19_train_score': array([0.94117647, 0.94117647, 1.        , 1.        , 1.        ,\n",
       "        1.        , 1.        , 1.        , 1.        , 1.        ]),\n",
       " 'split20_train_score': array([1., 1., 1., 1., 1., 1., 1., 1., 1., 1.]),\n",
       " 'split21_train_score': array([1., 1., 1., 1., 1., 1., 1., 1., 1., 1.]),\n",
       " 'split22_train_score': array([0.94117647, 0.94117647, 1.        , 1.        , 1.        ,\n",
       "        1.        , 1.        , 1.        , 1.        , 1.        ]),\n",
       " 'split23_train_score': array([1., 1., 1., 1., 1., 1., 1., 1., 1., 1.]),\n",
       " 'split24_train_score': array([1., 1., 1., 1., 1., 1., 1., 1., 1., 1.]),\n",
       " 'split25_train_score': array([1., 1., 1., 1., 1., 1., 1., 1., 1., 1.]),\n",
       " 'split26_train_score': array([1., 1., 1., 1., 1., 1., 1., 1., 1., 1.]),\n",
       " 'split27_train_score': array([1., 1., 1., 1., 1., 1., 1., 1., 1., 1.]),\n",
       " 'split28_train_score': array([1., 1., 1., 1., 1., 1., 1., 1., 1., 1.]),\n",
       " 'split29_train_score': array([0.94117647, 1.        , 1.        , 1.        , 1.        ,\n",
       "        1.        , 1.        , 1.        , 1.        , 1.        ]),\n",
       " 'mean_train_score': array([0.9879902, 0.9939951, 1.       , 1.       , 1.       , 1.       ,\n",
       "        1.       , 1.       , 1.       , 1.       ]),\n",
       " 'std_train_score': array([0.02403211, 0.01802304, 0.        , 0.        , 0.        ,\n",
       "        0.        , 0.        , 0.        , 0.        , 0.        ])}"
      ]
     },
     "execution_count": 91,
     "metadata": {},
     "output_type": "execute_result"
    }
   ],
   "source": [
    "# raw cross-validation results\n",
    "res = clf_cv.cv_results_\n",
    "res"
   ]
  },
  {
   "cell_type": "code",
   "execution_count": 92,
   "metadata": {},
   "outputs": [
    {
     "data": {
      "image/png": "[encoded data removed]",
      "text/plain": [
       "<Figure size 432x288 with 1 Axes>"
      ]
     },
     "metadata": {
      "needs_background": "light"
     },
     "output_type": "display_data"
    }
   ],
   "source": [
    "import matplotlib.pyplot as plt\n",
    "plt.semilogx(params['C'], res['mean_test_score'], 'bo')\n",
    "plt.errorbar(params['C'], res['mean_test_score'], yerr=res['std_test_score'])\n",
    "plt.title('Model performance vs. inverse regularization strength')\n",
    "plt.xlabel('C')\n",
    "plt.ylabel('ROC-AUC')\n",
    "plt.grid()\n",
    "plt.show()"
   ]
  },
  {
   "cell_type": "markdown",
   "metadata": {},
   "source": [
    "## Evaluate model"
   ]
  },
  {
   "cell_type": "code",
   "execution_count": 35,
   "metadata": {},
   "outputs": [],
   "source": [
    "# Retrain best model on entire training set and predict outcomes on test set\n",
    "from sklearn import metrics\n",
    "clf_best = clf_cv.best_estimator_.fit(X_counts_train, y_train)\n",
    "y_pred_test = clf_best.predict_proba(X_counts_test)[:,1]"
   ]
  },
  {
   "cell_type": "code",
   "execution_count": 36,
   "metadata": {},
   "outputs": [
    {
     "name": "stdout",
     "output_type": "stream",
     "text": [
      "Maximum F1 score: 0.8333333333333333\n",
      "Precision at max: 0.7142857142857143\n",
      "Recall at max: 1.0\n",
      "Optimal threshold: 0.499982501159996\n",
      "Confusion matrix: \n",
      " [[0 2]\n",
      " [1 4]]\n"
     ]
    },
    {
     "data": {
      "image/png": "[encoded data removed]",
      "text/plain": [
       "<Figure size 432x288 with 1 Axes>"
      ]
     },
     "metadata": {
      "needs_background": "light"
     },
     "output_type": "display_data"
    },
    {
     "data": {
      "text/plain": [
       "<Figure size 432x288 with 0 Axes>"
      ]
     },
     "metadata": {},
     "output_type": "display_data"
    }
   ],
   "source": [
    "# precision-recall analysis:\n",
    "precision, recall, eps = metrics.precision_recall_curve(y_test, y_pred_test)\n",
    "f1 = 2 * precision * recall / (precision + recall)\n",
    "f1max_ind = np.argmax(f1)\n",
    "print(\"Maximum F1 score: \" + str(f1[f1max_ind]))\n",
    "print(\"Precision at max: \" + str(precision[f1max_ind]))\n",
    "print(\"Recall at max: \" + str(recall[f1max_ind]))\n",
    "print(\"Optimal threshold: \" + str(eps[f1max_ind]))\n",
    "\n",
    "# confusion matrix at optimal threshold\n",
    "print(\"Confusion matrix: \\n\", metrics.confusion_matrix(y_test, y_pred_test>eps[f1max_ind]))\n",
    "\n",
    "# precision recall curve\n",
    "fig, ax = plt.subplots() \n",
    "ax.plot(recall, precision, 'b-')\n",
    "ax.set(xlabel='recall', ylabel='precision',ylim=(0,None))\n",
    "ax.set_aspect('equal')\n",
    "ax.grid()\n",
    "plt.title('Precision-Recall Curve')\n",
    "plt.show()\n",
    "plt.clf()"
   ]
  },
  {
   "cell_type": "code",
   "execution_count": 37,
   "metadata": {},
   "outputs": [
    {
     "name": "stdout",
     "output_type": "stream",
     "text": [
      "ROC-AUC:  0.5\n"
     ]
    },
    {
     "data": {
      "image/png": "[encoded data removed]",
      "text/plain": [
       "<Figure size 432x288 with 1 Axes>"
      ]
     },
     "metadata": {
      "needs_background": "light"
     },
     "output_type": "display_data"
    },
    {
     "data": {
      "text/plain": [
       "<Figure size 432x288 with 0 Axes>"
      ]
     },
     "metadata": {},
     "output_type": "display_data"
    }
   ],
   "source": [
    "# ROC Analysis:\n",
    "fpr, tpr, th = metrics.roc_curve(y_test, y_pred_test)\n",
    "roc_auc = metrics.roc_auc_score(y_test, y_pred_test)\n",
    "print(\"ROC-AUC: \", roc_auc)\n",
    "\n",
    "fig, ax = plt.subplots() \n",
    "ax.plot(fpr, tpr, 'b-')\n",
    "ax.plot([0,1],[0,1],'k--')\n",
    "#ax.plot([0,0.5],[1,0.5], 'k-')\n",
    "#ax.plot([0,0.3],[1,1],'k',linewidth=10)\n",
    "#ax.plot([0],[1],'ro',markersize=20)\n",
    "ax.set(xlabel='fpr', ylabel='tpr')\n",
    "ax.set_aspect('equal')\n",
    "ax.grid()\n",
    "plt.title(\"ROC Curve\")\n",
    "plt.show()\n",
    "plt.clf()"
   ]
  },
  {
   "cell_type": "markdown",
   "metadata": {},
   "source": [
    "## What words are important?"
   ]
  },
  {
   "cell_type": "code",
   "execution_count": 38,
   "metadata": {},
   "outputs": [],
   "source": [
    "# find coefficient size order from min to max\n",
    "argsrt = np.argsort(clf_best.coef_).flatten()"
   ]
  },
  {
   "cell_type": "code",
   "execution_count": 39,
   "metadata": {},
   "outputs": [
    {
     "data": {
      "text/plain": [
       "(48,)"
      ]
     },
     "execution_count": 39,
     "metadata": {},
     "output_type": "execute_result"
    }
   ],
   "source": [
    "# map to words\n",
    "var=np.asarray(list(count_vect.vocabulary_.keys()))\n",
    "sorted_words = var[argsrt] # error: too many indices for the array\n",
    "sorted_words.shape"
   ]
  },
  {
   "cell_type": "code",
   "execution_count": 40,
   "metadata": {},
   "outputs": [
    {
     "data": {
      "text/plain": [
       "(48,)"
      ]
     },
     "execution_count": 40,
     "metadata": {},
     "output_type": "execute_result"
    }
   ],
   "source": [
    "argsrt.shape"
   ]
  },
  {
   "cell_type": "code",
   "execution_count": 41,
   "metadata": {},
   "outputs": [
    {
     "name": "stdout",
     "output_type": "stream",
     "text": [
      "Attack words:  ['meeting' 'students' 'well' 'people' 'group' 'great' 'able' 'sure'\n",
      " 'organization' 'showed' 'cedc' 'needed' 'semester' 'goals' 'working'\n",
      " 'lead' 'go' 'program' 'internship' 'clemson' 'projects' 'large'\n",
      " 'everyone' 'encouraging' 'could']\n",
      "Non-attack words:  ['would' 'achieve' 'even' 'around' 'position' 'leadership' 'team' 'others'\n",
      " 'work' 'make' 'important' 'members' 'progress' 'student' 'new' 'take'\n",
      " 'many' 'part' 'different' 'things' 'intern' 'director' 'vision' 'could'\n",
      " 'encouraging']\n"
     ]
    }
   ],
   "source": [
    "# top words predicting attack:\n",
    "n=25\n",
    "print(\"Attack words: \", sorted_words[-1:-1*n-1:-1])\n",
    "\n",
    "# predicting not attack:\n",
    "print(\"Non-attack words: \", sorted_words[0:n])"
   ]
  },
  {
   "cell_type": "markdown",
   "metadata": {},
   "source": [
    "## What are examples where the model got it wrong?"
   ]
  },
  {
   "cell_type": "code",
   "execution_count": 23,
   "metadata": {},
   "outputs": [
    {
     "data": {
      "text/plain": [
       "['Met with President Houshmand and toured @RowanUniversity. Amazing growth of campus and innovative approaches to addressing student costs and relevant degrees/certificate programs.pic.twitter.com/YA0wisf9va',\n",
       " 'ICYMI yesterday, here are my remarks to the House and Senate Budget Conference Committeehttps://www.youtube.com/watch?v=Af12n75mPLw...',\n",
       " 'The moment to act is now. #CBO Reports #Immigration Bill would reduce deficit by $197 billion over 10 years. http://www.cbo.gov/',\n",
       " \"At the invitation of Bishop Su'a and Salote Schuster a few years ago I attended a General Conference in Salt Lake City where I was privileged to hear President Monson speak.https://radewagen.house.gov/media-center/press-releases/statement-honoring-life-thomas-s-monson...\",\n",
       " '\"We have ended the war on American Energy -- and we have ended the war on clean coal.  We are now an exporter of energy to the world.\" -@POTUS #SOTU',\n",
       " \"Fixing our nation's broken immigration system shouldn't be a partisan issue. That's why, I signed a discharge petition to force the House of Representatives to vote on critical immigration policy. We must repair our system, protect DACA recipients, and secure our borders.pic.twitter.com/9T4z9KCiMN\",\n",
       " 'To law enforcement in NC and across the US - thank you for your service. Without you, the American Dream would not be possible. #BackTheBluepic.twitter.com/Q4wImnIign',\n",
       " '\"We will block the Administration\\\\\\'s war on all forms of energy in this country. The American people deserve it.\"pic.twitter.com/V2Ae0ZdQCN',\n",
       " 'The @HouseCommerce Energy and Power Subcmte is set to examine the new EPA rules for existing power plants in June. http://energycommerce.house.gov/press-release/upton-and-whitfield-respond-epas-cap-and-trade-proposal...',\n",
       " 'The #TaxCutsandJobsAct means big things for everyday American families all across Southeastern Michigan and the United States. Relief is heading your way!https://fairandsimple.gop',\n",
       " 'RT @SpeakerBoehner: One way to help students with loans is by making it easier for them to find good-paying #jobs: http://bit.ly/1xyYtlb',\n",
       " \"#DREAMers are Americans. Ending #DACA would be a cruel & stupid mistake. Trump admin should do what's right & #DefendDACA.\",\n",
       " 'Still pushing House GOP to allow an up-or-down vote on my bill to prevent student loan interest rates from doubling. #DontDoubleMyRate',\n",
       " 'President Obama was right to protect 750,000 young men and women, including more than 8,000 Tennesseans, from the cruelty of deportation.https://twitter.com/politico/status/904500106107523073...',\n",
       " 'As we celebrate Labor Day, let us acknowledge and pay tribute to the millions of hard working Americans who each... http://fb.me/6iKkEMUUJ',\n",
       " 'FACT: A raise in the minimum wage will increase the pay of low-income workers by $31 billion: http://goo.gl/ArLUYX #RaiseTheWage',\n",
       " '#ACA Number to know: Up to 17 million kids with pre-existing conditions can no longer be denied coverage by insurers.']"
      ]
     },
     "execution_count": 23,
     "metadata": {},
     "output_type": "execute_result"
    }
   ],
   "source": [
    "# Predicted attack but wasn't:\n",
    "idx=np.logical_and(y_pred_test>eps[f1max_ind], y_test!=1)\n",
    "idx=idx[idx].index\n",
    "list(df.loc[idx].text)"
   ]
  },
  {
   "cell_type": "code",
   "execution_count": 24,
   "metadata": {},
   "outputs": [
    {
     "data": {
      "text/plain": [
       "['About to join @hardball on @MSNBC to discuss Republicans refusal to face reality of @TheJusticeDept IG report, which found no evidence of bias in the investigation.https://twitter.com/hardball/status/1007393245163409408...',\n",
       " \"The 20 week abortion ban signed by @GovWalker today is an attack on women's reproductive health: http://pocan.house.gov/media-center/press-releases/pocan-condemns-wisconsin-s-20-week-abortion-ban... #StopTheBans\",\n",
       " 'Another example of \"spendulus\" bill doing more harm than good http://tinyurl.com/oztxn6',\n",
       " \"@RepPaulRyan Which is why you're including the revenues from the fiscal cliff deal in your budget? #RyanBudgetFail\",\n",
       " 'This court ruling is an important victory. The implementation of #Obamacare was illegal and its policies are harmful. http://thehill.com/policy/healthcare/253115-court-allows-boehner-lawsuit-against-obamacare-to-move-forward...',\n",
       " \"Prayers for #NiceFrance\\\\xe2\\\\x80\\\\x94yet another wake-up call to challenges free world faces from jihad. It's time to get tough!pic.twitter.com/X0peCpr73j\",\n",
       " 'Thxhttps://twitter.com/foxnews/status/959709302217785344...',\n",
       " 'Chaffetz, Cummings Refer Former CSB Chairman to DOJ for Criminal Prosecution https://oversight.house.gov/release/chaffetz-cummings-refer-former-csb-chairman-doj-criminal-prosecution/... via @GOPOversight',\n",
       " 'Average premium prices in Graham County will increase by 744% under #AHCA. http://kff.org/interactive/tax-credits-under-the-affordable-care-act-vs-replacement-proposal-interactive-map/... #AZ01pic.twitter.com/aQSXOPXgmk',\n",
       " \"Yesterday's BOE decision=a setback. But we can keep working to give NYers trust in their electoral process: http://bit.ly/1733dkE #nyc2013\",\n",
       " 'A great day for #Dreamers & a great day for #California! @realdonaldtrump tried to skirt the rule in requesting #SCOTUS review our #DACA case. The Court said no: https://www.washingtonpost.com/politics/courts_law/supreme-court-declines-trump-request-to-take-up-daca-controversy-now/2018/02/26/4fb2e528-132f-11e8-9570-29c9830535e5_story.html?utm_term=.e325186936b6... #ProtectDACA',\n",
       " \"My statement on today's health care vote: http://hultgren.house.gov/newsroom/press-releases/hultgren-on-health-care-vote...pic.twitter.com/RmxPDYvLsX\",\n",
       " '.@GovSandoval knows what we all do: The #GrahamCassidy repeal bill is not in the best interests of Nevadans.http://thehill.com/policy/healthcare/health-reform-implementation/351514-analysis-shows-states-would-lose-billions...',\n",
       " \"No matter how they look at the Police Chief's answers, it is deceptive if not incompetent.\",\n",
       " 'Russia needs to stop violating the agreed upon cease fire and end the violent attacks in eastern Ukraine. https://kaptur.house.gov/media-center/press-releases/kaptur-introduces-bipartisan-house-resolution-calling-russia-stop...pic.twitter.com/YbeU3eSMsg',\n",
       " 'Today the #FDA revoked the approval of metastatic #breastcancer treatment drug #Avastin - I am deeply disapointed http://goo.gl/VvYJi',\n",
       " \"VIDEO: The President's @PressSec admits the sequester was @BarackObama's idea http://bit.ly/V65mux #Obamaquester #SOTU\",\n",
       " 'Middle class relief?https://twitter.com/CBSNews/status/923039434223882240...',\n",
       " \"LIVE NOW: I'm talking to Dr. Bradley Gilbert of @IEHP_healthcare about the impact of #TrumpCare on our region. https://www.facebook.com/RepMarkTakano/\",\n",
       " '\\\\xe2\\\\x80\\\\x9c@stevenfhayward: One quick way Obama could slice a 10 to 15 cents off the price of gasoline. http://www.powerlineblog.com/archives/2012/03/bureaucratic-gas.php...\\\\xe2\\\\x80\\\\x9d',\n",
       " 'I just spoke on the floor of the U.S. House in support of ending this reckless government shutdown: http://youtu.be/ML2U05dEYgU #EnoughAlready',\n",
       " '#obstructionofjustice #TrumpRussia #coveruphttps://twitter.com/davidaxelrod/status/864609258935111684...']"
      ]
     },
     "execution_count": 24,
     "metadata": {},
     "output_type": "execute_result"
    }
   ],
   "source": [
    "# Predicted non-attack but was:\n",
    "idx=np.logical_and(y_pred_test<=eps[f1max_ind], y_test==1)\n",
    "idx=idx[idx].index\n",
    "list(df.loc[idx].text)"
   ]
  },
  {
   "cell_type": "code",
   "execution_count": null,
   "metadata": {},
   "outputs": [],
   "source": []
  }
 ],
 "metadata": {
  "kernelspec": {
   "display_name": "Python 3",
   "language": "python",
   "name": "python3"
  },
  "language_info": {
   "codemirror_mode": {
    "name": "ipython",
    "version": 3
   },
   "file_extension": ".py",
   "mimetype": "text/x-python",
   "name": "python",
   "nbconvert_exporter": "python",
   "pygments_lexer": "ipython3",
   "version": "3.7.1"
  }
 },
 "nbformat": 4,
 "nbformat_minor": 2
}
