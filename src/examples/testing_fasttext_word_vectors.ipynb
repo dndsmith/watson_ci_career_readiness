{
 "cells": [
  {
   "cell_type": "code",
   "execution_count": 14,
   "metadata": {},
   "outputs": [],
   "source": [
    "from sklearn.linear_model import LogisticRegression\n",
    "from sklearn.model_selection import GridSearchCV\n",
    "import pandas as pd\n",
    "import numpy as np\n",
    "%matplotlib inline"
   ]
  },
  {
   "cell_type": "code",
   "execution_count": 6,
   "metadata": {},
   "outputs": [
    {
     "name": "stdout",
     "output_type": "stream",
     "text": [
      "(45, 31)\n",
      "      target     vec_1     vec_2     vec_3     vec_4     vec_5     vec_6  \\\n",
      "0   transact -0.018570 -0.031737 -0.027723 -0.001139  0.062968 -0.024740   \n",
      "1  transform  0.013204  0.009428  0.038983  0.026551  0.005384 -0.017340   \n",
      "2        NaN  0.050395  0.050009  0.082112  0.032920  0.009977 -0.075748   \n",
      "3        NaN -0.010274  0.039289  0.027041  0.049897  0.047786 -0.071761   \n",
      "4        NaN  0.049971  0.000303  0.084578 -0.005040  0.029496 -0.008910   \n",
      "\n",
      "      vec_7     vec_8     vec_9  ...    vec_21    vec_22    vec_23    vec_24  \\\n",
      "0 -0.007947 -0.084030  0.075126  ... -0.010854 -0.026031 -0.015426 -0.006903   \n",
      "1  0.037598 -0.113060  0.114380  ...  0.063993 -0.021484 -0.005044  0.012037   \n",
      "2  0.021710 -0.002667  0.027541  ...  0.136900  0.031383 -0.059847  0.075300   \n",
      "3  0.035830 -0.112740  0.079033  ...  0.133660  0.004097 -0.026222  0.045565   \n",
      "4  0.006110 -0.077228  0.000346  ...  0.058427  0.046803 -0.073409  0.046769   \n",
      "\n",
      "     vec_25    vec_26    vec_27    vec_28    vec_29    vec_30  \n",
      "0 -0.032980 -0.022807 -0.034467 -0.076145 -0.061940 -0.003348  \n",
      "1 -0.011686 -0.002313 -0.125610 -0.025991  0.033951 -0.059497  \n",
      "2  0.052096  0.100020 -0.105410 -0.045649  0.014692 -0.027049  \n",
      "3  0.024632  0.012173 -0.026913 -0.005864  0.037041 -0.032122  \n",
      "4  0.076668  0.063110 -0.050191 -0.053275 -0.001032 -0.132120  \n",
      "\n",
      "[5 rows x 31 columns]\n",
      "(24, 31)\n",
      "      target     vec_1     vec_2     vec_3     vec_4     vec_5     vec_6  \\\n",
      "0   transact -0.018570 -0.031737 -0.027723 -0.001139  0.062968 -0.024740   \n",
      "1  transform  0.013204  0.009428  0.038983  0.026551  0.005384 -0.017340   \n",
      "5  transform  0.018405  0.018748  0.027490  0.007571 -0.011405 -0.006151   \n",
      "8   transact -0.057940 -0.056740 -0.039384  0.026253 -0.021017 -0.036908   \n",
      "9   transact -0.025073 -0.008797  0.000365 -0.013438 -0.013184  0.009804   \n",
      "\n",
      "      vec_7    vec_8     vec_9  ...    vec_21    vec_22    vec_23    vec_24  \\\n",
      "0 -0.007947 -0.08403  0.075126  ... -0.010854 -0.026031 -0.015426 -0.006903   \n",
      "1  0.037598 -0.11306  0.114380  ...  0.063993 -0.021484 -0.005044  0.012037   \n",
      "5  0.022867 -0.11076  0.059184  ...  0.060081 -0.007576  0.026436  0.065667   \n",
      "8  0.057731 -0.16515  0.063442  ... -0.043481 -0.014301 -0.052249  0.026815   \n",
      "9  0.109300 -0.12027  0.060621  ...  0.062081  0.006365 -0.050803  0.079670   \n",
      "\n",
      "     vec_25    vec_26    vec_27    vec_28    vec_29    vec_30  \n",
      "0 -0.032980 -0.022807 -0.034467 -0.076145 -0.061940 -0.003348  \n",
      "1 -0.011686 -0.002313 -0.125610 -0.025991  0.033951 -0.059497  \n",
      "5 -0.006309 -0.035215 -0.017885 -0.034240  0.083320 -0.090344  \n",
      "8  0.035729 -0.003752 -0.090075 -0.024424 -0.062015 -0.069838  \n",
      "9 -0.002111 -0.043151 -0.032001 -0.018729  0.014160 -0.049113  \n",
      "\n",
      "[5 rows x 31 columns]\n"
     ]
    }
   ],
   "source": [
    "df = pd.read_csv('data/ready_to_model.csv')\n",
    "print(df.shape)\n",
    "print(df.head())\n",
    "\n",
    "# clean out missing values\n",
    "df = df.dropna()\n",
    "print(df.shape)\n",
    "print(df.head())"
   ]
  },
  {
   "cell_type": "code",
   "execution_count": 7,
   "metadata": {},
   "outputs": [
    {
     "name": "stdout",
     "output_type": "stream",
     "text": [
      "(24,)\n",
      "(24, 30)\n"
     ]
    }
   ],
   "source": [
    "y = df.target\n",
    "X = df.iloc[:,1:]\n",
    "print y.shape\n",
    "print X.shape"
   ]
  },
  {
   "cell_type": "code",
   "execution_count": 23,
   "metadata": {},
   "outputs": [],
   "source": [
    "from sklearn.model_selection import RepeatedStratifiedKFold"
   ]
  },
  {
   "cell_type": "code",
   "execution_count": 26,
   "metadata": {},
   "outputs": [
    {
     "name": "stdout",
     "output_type": "stream",
     "text": [
      "Fitting 60 folds for each of 20 candidates, totalling 1200 fits\n"
     ]
    },
    {
     "name": "stderr",
     "output_type": "stream",
     "text": [
      "[Parallel(n_jobs=6)]: Using backend LokyBackend with 6 concurrent workers.\n",
      "[Parallel(n_jobs=6)]: Done   1 tasks      | elapsed:    0.0s\n",
      "[Parallel(n_jobs=6)]: Batch computation too fast (0.0253s.) Setting batch_size=14.\n",
      "[Parallel(n_jobs=6)]: Done   6 tasks      | elapsed:    0.1s\n",
      "[Parallel(n_jobs=6)]: Done  26 tasks      | elapsed:    0.3s\n",
      "[Parallel(n_jobs=6)]: Done 124 tasks      | elapsed:    0.4s\n",
      "[Parallel(n_jobs=6)]: Done 250 tasks      | elapsed:    0.6s\n",
      "[Parallel(n_jobs=6)]: Done 376 tasks      | elapsed:    0.7s\n",
      "[Parallel(n_jobs=6)]: Done 530 tasks      | elapsed:    0.9s\n",
      "[Parallel(n_jobs=6)]: Done 684 tasks      | elapsed:    1.1s\n",
      "[Parallel(n_jobs=6)]: Done 866 tasks      | elapsed:    1.4s\n"
     ]
    },
    {
     "name": "stdout",
     "output_type": "stream",
     "text": [
      "GridSearchCV(cv=<sklearn.model_selection._split.RepeatedStratifiedKFold object at 0x7f29b65ea510>,\n",
      "       error_score='raise-deprecating',\n",
      "       estimator=LogisticRegression(C=1.0, class_weight=None, dual=False, fit_intercept=True,\n",
      "          intercept_scaling=1, max_iter=100, multi_class='warn',\n",
      "          n_jobs=None, penalty='l2', random_state=None, solver='warn',\n",
      "          tol=0.0001, verbose=0, warm_start=False),\n",
      "       fit_params=None, iid='warn', n_jobs=6,\n",
      "       param_grid={'C': array([1.00000e+00, 1.62378e+00, 2.63665e+00, 4.28133e+00, 6.95193e+00,\n",
      "       1.12884e+01, 1.83298e+01, 2.97635e+01, 4.83293e+01, 7.84760e+01,\n",
      "       1.27427e+02, 2.06914e+02, 3.35982e+02, 5.45559e+02, 8.85867e+02,\n",
      "       1.43845e+03, 2.33572e+03, 3.79269e+03, 6.15848e+03, 1.00000e+04])},\n",
      "       pre_dispatch='2*n_jobs', refit=True, return_train_score=True,\n",
      "       scoring='roc_auc', verbose=10)\n"
     ]
    },
    {
     "name": "stderr",
     "output_type": "stream",
     "text": [
      "[Parallel(n_jobs=6)]: Done 1048 tasks      | elapsed:    1.6s\n",
      "[Parallel(n_jobs=6)]: Done 1200 out of 1200 | elapsed:    1.7s finished\n",
      "/home/hudson/.local/lib/python2.7/site-packages/sklearn/model_selection/_search.py:841: DeprecationWarning: The default of the `iid` parameter will change from True to False in version 0.22 and will be removed in 0.24. This will change numeric results when test-set sizes are unequal.\n",
      "  DeprecationWarning)\n"
     ]
    }
   ],
   "source": [
    "# Define and fit the model\n",
    "estimator =  LogisticRegression()\n",
    "params = dict(C=np.logspace(0,4,20))\n",
    "cv = RepeatedStratifiedKFold(n_splits=3, n_repeats=20, random_state=42)\n",
    "clf_cv = GridSearchCV(estimator, param_grid=params, cv=cv, verbose=10, n_jobs=6, return_train_score=True, scoring='roc_auc')\n",
    "print(clf_cv.fit(X, y))"
   ]
  },
  {
   "cell_type": "code",
   "execution_count": 27,
   "metadata": {},
   "outputs": [
    {
     "data": {
      "image/png": "[encoded data removed]",
      "text/plain": [
       "<Figure size 432x288 with 1 Axes>"
      ]
     },
     "metadata": {
      "needs_background": "light"
     },
     "output_type": "display_data"
    }
   ],
   "source": [
    "# raw cross-validation results\n",
    "res = clf_cv.cv_results_\n",
    "res\n",
    "\n",
    "import matplotlib.pyplot as plt\n",
    "plt.semilogx(params['C'], res['mean_test_score'], 'bo')\n",
    "plt.errorbar(params['C'], res['mean_test_score'], yerr=res['std_test_score'])\n",
    "plt.title('Model performance vs. inverse regularization strength')\n",
    "plt.xlabel('C')\n",
    "plt.ylabel('ROC-AUC')\n",
    "plt.grid()\n",
    "plt.show()"
   ]
  },
  {
   "cell_type": "code",
   "execution_count": 30,
   "metadata": {},
   "outputs": [
    {
     "data": {
      "text/plain": [
       "LogisticRegression(C=78.47599703514611, class_weight=None, dual=False,\n",
       "          fit_intercept=True, intercept_scaling=1, max_iter=100,\n",
       "          multi_class='warn', n_jobs=None, penalty='l2', random_state=None,\n",
       "          solver='warn', tol=0.0001, verbose=0, warm_start=False)"
      ]
     },
     "execution_count": 30,
     "metadata": {},
     "output_type": "execute_result"
    }
   ],
   "source": [
    "# pull off the model with the best value of C\n",
    "# but it's only trained on 2/3 of the data\n",
    "best_model = clf_cv.best_estimator_\n",
    "\n",
    "# refit to 1/1ths of the data. \n",
    "# use this model in your application\n",
    "best_model.fit(X,y)"
   ]
  },
  {
   "cell_type": "code",
   "execution_count": null,
   "metadata": {},
   "outputs": [],
   "source": []
  }
 ],
 "metadata": {
  "kernelspec": {
   "display_name": "Python 3",
   "language": "python",
   "name": "python3"
  },
  "language_info": {
   "codemirror_mode": {
    "name": "ipython",
    "version": 3
   },
   "file_extension": ".py",
   "mimetype": "text/x-python",
   "name": "python",
   "nbconvert_exporter": "python",
   "pygments_lexer": "ipython3",
   "version": "3.7.1"
  }
 },
 "nbformat": 4,
 "nbformat_minor": 2
}
