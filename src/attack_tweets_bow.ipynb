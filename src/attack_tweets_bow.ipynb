{
 "cells": [
  {
   "cell_type": "code",
   "execution_count": 1,
   "metadata": {},
   "outputs": [],
   "source": [
    "import numpy as np\n",
    "import pandas as pd\n",
    "import re\n",
    "import string\n",
    "from sklearn.model_selection import train_test_split\n",
    "from sklearn.feature_extraction.text import CountVectorizer, TfidfVectorizer\n",
    "from sklearn.linear_model import LogisticRegression\n",
    "from sklearn.model_selection import GridSearchCV\n",
    "from nltk.corpus import stopwords \n",
    "from nltk.tokenize import word_tokenize \n",
    "%matplotlib inline"
   ]
  },
  {
   "cell_type": "markdown",
   "metadata": {},
   "source": [
    "## Load and clean the data"
   ]
  },
  {
   "cell_type": "code",
   "execution_count": 2,
   "metadata": {},
   "outputs": [],
   "source": [
    "df = pd.read_csv('../data/tweets_labelled.csv')\n",
    "\n",
    "# select the attack and text columns\n",
    "df = df[['attack', 'text']]\n",
    "\n",
    "# drop rows with nan values\n",
    "df = df.dropna()\n",
    "\n",
    "# drop any with all white-space text\n",
    "df.text = df.text.str.strip()\n",
    "df = df[df.text!='']\n",
    "\n",
    "# convert the attack column to an integer\n",
    "df.attack = df.attack.astype('int')"
   ]
  },
  {
   "cell_type": "markdown",
   "metadata": {},
   "source": [
    "## Look at the data"
   ]
  },
  {
   "cell_type": "code",
   "execution_count": 3,
   "metadata": {},
   "outputs": [
    {
     "data": {
      "text/html": [
       "<div>\n",
       "<style scoped>\n",
       "    .dataframe tbody tr th:only-of-type {\n",
       "        vertical-align: middle;\n",
       "    }\n",
       "\n",
       "    .dataframe tbody tr th {\n",
       "        vertical-align: top;\n",
       "    }\n",
       "\n",
       "    .dataframe thead th {\n",
       "        text-align: right;\n",
       "    }\n",
       "</style>\n",
       "<table border=\"1\" class=\"dataframe\">\n",
       "  <thead>\n",
       "    <tr style=\"text-align: right;\">\n",
       "      <th></th>\n",
       "      <th>attack</th>\n",
       "      <th>text</th>\n",
       "    </tr>\n",
       "  </thead>\n",
       "  <tbody>\n",
       "    <tr>\n",
       "      <th>0</th>\n",
       "      <td>0</td>\n",
       "      <td>Today I introduced the Addressing Teacher Shor...</td>\n",
       "    </tr>\n",
       "    <tr>\n",
       "      <th>1</th>\n",
       "      <td>1</td>\n",
       "      <td>Wholeheartedly agree .@RepJeffries -- McConnel...</td>\n",
       "    </tr>\n",
       "    <tr>\n",
       "      <th>2</th>\n",
       "      <td>0</td>\n",
       "      <td>Look forward to reading it. Thanks!</td>\n",
       "    </tr>\n",
       "    <tr>\n",
       "      <th>3</th>\n",
       "      <td>0</td>\n",
       "      <td>When we passed the Tax Cuts and Jobs Act, it h...</td>\n",
       "    </tr>\n",
       "    <tr>\n",
       "      <th>4</th>\n",
       "      <td>1</td>\n",
       "      <td>There's still time for an @FBI background inve...</td>\n",
       "    </tr>\n",
       "  </tbody>\n",
       "</table>\n",
       "</div>"
      ],
      "text/plain": [
       "   attack                                               text\n",
       "0       0  Today I introduced the Addressing Teacher Shor...\n",
       "1       1  Wholeheartedly agree .@RepJeffries -- McConnel...\n",
       "2       0                Look forward to reading it. Thanks!\n",
       "3       0  When we passed the Tax Cuts and Jobs Act, it h...\n",
       "4       1  There's still time for an @FBI background inve..."
      ]
     },
     "execution_count": 3,
     "metadata": {},
     "output_type": "execute_result"
    }
   ],
   "source": [
    "df.head()"
   ]
  },
  {
   "cell_type": "code",
   "execution_count": 4,
   "metadata": {},
   "outputs": [
    {
     "data": {
      "text/html": [
       "<div>\n",
       "<style scoped>\n",
       "    .dataframe tbody tr th:only-of-type {\n",
       "        vertical-align: middle;\n",
       "    }\n",
       "\n",
       "    .dataframe tbody tr th {\n",
       "        vertical-align: top;\n",
       "    }\n",
       "\n",
       "    .dataframe thead th {\n",
       "        text-align: right;\n",
       "    }\n",
       "</style>\n",
       "<table border=\"1\" class=\"dataframe\">\n",
       "  <thead>\n",
       "    <tr style=\"text-align: right;\">\n",
       "      <th></th>\n",
       "      <th>text</th>\n",
       "    </tr>\n",
       "    <tr>\n",
       "      <th>attack</th>\n",
       "      <th></th>\n",
       "    </tr>\n",
       "  </thead>\n",
       "  <tbody>\n",
       "    <tr>\n",
       "      <th>0</th>\n",
       "      <td>1110</td>\n",
       "    </tr>\n",
       "    <tr>\n",
       "      <th>1</th>\n",
       "      <td>165</td>\n",
       "    </tr>\n",
       "  </tbody>\n",
       "</table>\n",
       "</div>"
      ],
      "text/plain": [
       "        text\n",
       "attack      \n",
       "0       1110\n",
       "1        165"
      ]
     },
     "execution_count": 4,
     "metadata": {},
     "output_type": "execute_result"
    }
   ],
   "source": [
    "# look at number of attacks.\n",
    "# 0: not attack\n",
    "# 1: attack\n",
    "df.groupby('attack').count()"
   ]
  },
  {
   "cell_type": "markdown",
   "metadata": {},
   "source": [
    "Note that there are many more _non-attacks_ than _attacks_. This is called class imbalance and can lead to challenges for modeling and model evaluation."
   ]
  },
  {
   "cell_type": "code",
   "execution_count": 5,
   "metadata": {},
   "outputs": [
    {
     "data": {
      "text/plain": [
       "['@CaseyNeistat yo casey. We need you to spread whats happening in Kerala, India. #DoForKerala #kerala @mkbhd @Dannmace @elonmuskpic.twitter.com/r4l2VyKBfk',\n",
       " 'I sat in on interviews w/students pursuing a nomination to a US service academy. I was impressed by their patriotism & commitment #PA11#NEPA',\n",
       " 'Wanted to use my first speaking opportunity on the House Floor to say #ThankYou to #Michigan1 for the opportunity to serve you in Congress.pic.twitter.com/3gFn6akSeU',\n",
       " \"Honored to join @GovernorVA McAuliffe today for a faith leaders reception at the Governor's Mansion.pic.twitter.com/gav7TPIrC4\",\n",
       " 'The House just said #Yes2Energy by passing HR 351, increasing our Natural Gas Exports!pic.twitter.com/8BVjg0LSJp',\n",
       " 'La preparaci\\\\xc3\\\\xb3n acad\\\\xc3\\\\xa9mica de los beneficiarios de #DACA estimula la actividad econ\\\\xc3\\\\xb3mica en todo el pa\\\\xc3\\\\xads.pic.twitter.com/tejgV10idl',\n",
       " 'RT @GOPLeader: The House passed the Gabriella Miller #KidsFirst Research Act in a 295-103 vote:pic.twitter.com/pZzOvdXFxB',\n",
       " '@GOPoversight hearing on DHS protocol on releasing dangerous non-citizen criminals happening now - tune in at http://1.usa.gov/1DPzjnk',\n",
       " 'I joined Lou Dobbs last night to discuss the putting our government on the path to a balanced budget. Watch here:http://fxn.ws/XKc2wM',\n",
       " 'Those of us who have fought for years for comprehensive #immigration reform welcome allies. But talk is cheap. Only action gets it done #CIR']"
      ]
     },
     "execution_count": 5,
     "metadata": {},
     "output_type": "execute_result"
    }
   ],
   "source": [
    "# show ten random tweets\n",
    "list(df.sample(10, replace=False).text)"
   ]
  },
  {
   "cell_type": "markdown",
   "metadata": {},
   "source": [
    "## Preprocess text\n",
    "Preprocessing is one of the subtlest parts of natural language processing. For brevity, we perform only the most basic steps. "
   ]
  },
  {
   "cell_type": "code",
   "execution_count": 6,
   "metadata": {},
   "outputs": [],
   "source": [
    "# replace all punctuation with space\n",
    "def remove_punctuation(txt):\n",
    "    txt = txt.translate(None, string.punctuation)\n",
    "    \n",
    "    return txt\n",
    "\n",
    "# lowercase text\n",
    "def lowercase(txt):\n",
    "    txt = txt.lower()\n",
    "    # TODO: more nuanced rules...\n",
    "    return txt\n",
    "\n",
    "# remove stopwords\n",
    "def remove_stopwords(txt):\n",
    "    stop_words = set(stopwords.words('english')) \n",
    "    toks = word_tokenize(txt) \n",
    "    toks = [w for w in toks if not w in stop_words]\n",
    "    txt = \" \".join(toks)\n",
    "    \n",
    "    return txt\n",
    "\n",
    "# TODO: perform other steps...\n",
    "\n",
    "# put all steps together\n",
    "def preproc(txt):\n",
    "    txt = remove_punctuation(txt)\n",
    "    txt = lowercase(txt)\n",
    "    txt = remove_stopwords(txt)\n",
    "    #TODO: other steps...\n",
    "    \n",
    "    return txt    "
   ]
  },
  {
   "cell_type": "code",
   "execution_count": 7,
   "metadata": {},
   "outputs": [
    {
     "data": {
      "text/plain": [
       "'lights sooooo bright'"
      ]
     },
     "execution_count": 7,
     "metadata": {},
     "output_type": "execute_result"
    }
   ],
   "source": [
    "# try it out on some text\n",
    "preproc(\"Why are the lights SOOOOO bright\")"
   ]
  },
  {
   "cell_type": "code",
   "execution_count": 8,
   "metadata": {},
   "outputs": [],
   "source": [
    "# Apply the preprocessing to our text\n",
    "df['text_proc'] = df.text.apply(lambda txt: preproc(txt))"
   ]
  },
  {
   "cell_type": "code",
   "execution_count": 9,
   "metadata": {},
   "outputs": [
    {
     "data": {
      "text/html": [
       "<div>\n",
       "<style scoped>\n",
       "    .dataframe tbody tr th:only-of-type {\n",
       "        vertical-align: middle;\n",
       "    }\n",
       "\n",
       "    .dataframe tbody tr th {\n",
       "        vertical-align: top;\n",
       "    }\n",
       "\n",
       "    .dataframe thead th {\n",
       "        text-align: right;\n",
       "    }\n",
       "</style>\n",
       "<table border=\"1\" class=\"dataframe\">\n",
       "  <thead>\n",
       "    <tr style=\"text-align: right;\">\n",
       "      <th></th>\n",
       "      <th>text</th>\n",
       "      <th>text_proc</th>\n",
       "    </tr>\n",
       "  </thead>\n",
       "  <tbody>\n",
       "    <tr>\n",
       "      <th>335</th>\n",
       "      <td>President Obama was right to protect 750,000 y...</td>\n",
       "      <td>president obama right protect 750000 young men...</td>\n",
       "    </tr>\n",
       "    <tr>\n",
       "      <th>1088</th>\n",
       "      <td>I just met with the @EnidChamber in Washington...</td>\n",
       "      <td>met enidchamber washington dc great discuss is...</td>\n",
       "    </tr>\n",
       "    <tr>\n",
       "      <th>21</th>\n",
       "      <td>Apple analyst: 'We put too much emphasis on th...</td>\n",
       "      <td>apple analyst put much emphasis iphone super e...</td>\n",
       "    </tr>\n",
       "    <tr>\n",
       "      <th>976</th>\n",
       "      <td>Via @WSJ: National Lampoon's ObamaCare Vacatio...</td>\n",
       "      <td>via wsj national lampoons obamacare vacation h...</td>\n",
       "    </tr>\n",
       "    <tr>\n",
       "      <th>247</th>\n",
       "      <td>Busy day at the @CFPB. Digging into the detail...</td>\n",
       "      <td>busy day cfpb digging detailspictwittercomyfs0...</td>\n",
       "    </tr>\n",
       "    <tr>\n",
       "      <th>756</th>\n",
       "      <td>Want to see my #TBT photo? Follow me on Intsta...</td>\n",
       "      <td>want see tbt photo follow intstagram httpwwwin...</td>\n",
       "    </tr>\n",
       "    <tr>\n",
       "      <th>271</th>\n",
       "      <td>Glad I had the chance to catch up with Shirley...</td>\n",
       "      <td>glad chance catch shirley odegaard shes active...</td>\n",
       "    </tr>\n",
       "    <tr>\n",
       "      <th>128</th>\n",
       "      <td>Take time this #NationalParkWeek to get outsid...</td>\n",
       "      <td>take time nationalparkweek get outside findyou...</td>\n",
       "    </tr>\n",
       "    <tr>\n",
       "      <th>442</th>\n",
       "      <td>It's great to be in Holly Springs to talk with...</td>\n",
       "      <td>great holly springs talk rotarians including g...</td>\n",
       "    </tr>\n",
       "    <tr>\n",
       "      <th>931</th>\n",
       "      <td>ICYMI: Was an honor to be at @WhiteHouse to se...</td>\n",
       "      <td>icymi honor whitehouse see president take acti...</td>\n",
       "    </tr>\n",
       "    <tr>\n",
       "      <th>1240</th>\n",
       "      <td>On @cnnAM this morning, noted its almost 100 d...</td>\n",
       "      <td>cnnam morning noted almost 100 days gop majori...</td>\n",
       "    </tr>\n",
       "    <tr>\n",
       "      <th>685</th>\n",
       "      <td>Today, along with my colleagues from the Congr...</td>\n",
       "      <td>today along colleagues congressional progressi...</td>\n",
       "    </tr>\n",
       "    <tr>\n",
       "      <th>101</th>\n",
       "      <td>The American people have lost faith in Congres...</td>\n",
       "      <td>american people lost faith congress dont trust...</td>\n",
       "    </tr>\n",
       "    <tr>\n",
       "      <th>1032</th>\n",
       "      <td>Learn how #Obamacare will create disincentives...</td>\n",
       "      <td>learn obamacare create disincentives fulltime ...</td>\n",
       "    </tr>\n",
       "    <tr>\n",
       "      <th>1192</th>\n",
       "      <td>Read about HouseBudget proposals, including fo...</td>\n",
       "      <td>read housebudget proposals including four bill...</td>\n",
       "    </tr>\n",
       "    <tr>\n",
       "      <th>259</th>\n",
       "      <td>I am proud to work with @JeffFlake and @Senato...</td>\n",
       "      <td>proud work jeffflake senatorshaheen lessen bur...</td>\n",
       "    </tr>\n",
       "    <tr>\n",
       "      <th>675</th>\n",
       "      <td>Lots of road closures today in #STL. Telegraph...</td>\n",
       "      <td>lots road closures today stl telegraph road on...</td>\n",
       "    </tr>\n",
       "    <tr>\n",
       "      <th>26</th>\n",
       "      <td>Schools need new technology, more money for ar...</td>\n",
       "      <td>schools need new technology money art stem cla...</td>\n",
       "    </tr>\n",
       "    <tr>\n",
       "      <th>643</th>\n",
       "      <td>Jim Lawson was arrested the next day at Kelly ...</td>\n",
       "      <td>jim lawson arrested next day kelly miller smit...</td>\n",
       "    </tr>\n",
       "    <tr>\n",
       "      <th>280</th>\n",
       "      <td>I'm committed to ensuring all women have the t...</td>\n",
       "      <td>im committed ensuring women tools resources ne...</td>\n",
       "    </tr>\n",
       "  </tbody>\n",
       "</table>\n",
       "</div>"
      ],
      "text/plain": [
       "                                                   text  \\\n",
       "335   President Obama was right to protect 750,000 y...   \n",
       "1088  I just met with the @EnidChamber in Washington...   \n",
       "21    Apple analyst: 'We put too much emphasis on th...   \n",
       "976   Via @WSJ: National Lampoon's ObamaCare Vacatio...   \n",
       "247   Busy day at the @CFPB. Digging into the detail...   \n",
       "756   Want to see my #TBT photo? Follow me on Intsta...   \n",
       "271   Glad I had the chance to catch up with Shirley...   \n",
       "128   Take time this #NationalParkWeek to get outsid...   \n",
       "442   It's great to be in Holly Springs to talk with...   \n",
       "931   ICYMI: Was an honor to be at @WhiteHouse to se...   \n",
       "1240  On @cnnAM this morning, noted its almost 100 d...   \n",
       "685   Today, along with my colleagues from the Congr...   \n",
       "101   The American people have lost faith in Congres...   \n",
       "1032  Learn how #Obamacare will create disincentives...   \n",
       "1192  Read about HouseBudget proposals, including fo...   \n",
       "259   I am proud to work with @JeffFlake and @Senato...   \n",
       "675   Lots of road closures today in #STL. Telegraph...   \n",
       "26    Schools need new technology, more money for ar...   \n",
       "643   Jim Lawson was arrested the next day at Kelly ...   \n",
       "280   I'm committed to ensuring all women have the t...   \n",
       "\n",
       "                                              text_proc  \n",
       "335   president obama right protect 750000 young men...  \n",
       "1088  met enidchamber washington dc great discuss is...  \n",
       "21    apple analyst put much emphasis iphone super e...  \n",
       "976   via wsj national lampoons obamacare vacation h...  \n",
       "247   busy day cfpb digging detailspictwittercomyfs0...  \n",
       "756   want see tbt photo follow intstagram httpwwwin...  \n",
       "271   glad chance catch shirley odegaard shes active...  \n",
       "128   take time nationalparkweek get outside findyou...  \n",
       "442   great holly springs talk rotarians including g...  \n",
       "931   icymi honor whitehouse see president take acti...  \n",
       "1240  cnnam morning noted almost 100 days gop majori...  \n",
       "685   today along colleagues congressional progressi...  \n",
       "101   american people lost faith congress dont trust...  \n",
       "1032  learn obamacare create disincentives fulltime ...  \n",
       "1192  read housebudget proposals including four bill...  \n",
       "259   proud work jeffflake senatorshaheen lessen bur...  \n",
       "675   lots road closures today stl telegraph road on...  \n",
       "26    schools need new technology money art stem cla...  \n",
       "643   jim lawson arrested next day kelly miller smit...  \n",
       "280   im committed ensuring women tools resources ne...  "
      ]
     },
     "execution_count": 9,
     "metadata": {},
     "output_type": "execute_result"
    }
   ],
   "source": [
    "# Take a look at the processed txt\n",
    "df.sample(20, replace=False)[['text', 'text_proc']]"
   ]
  },
  {
   "cell_type": "markdown",
   "metadata": {},
   "source": [
    "## Bag of words model"
   ]
  },
  {
   "cell_type": "code",
   "execution_count": 10,
   "metadata": {},
   "outputs": [],
   "source": [
    "# select data for modeling\n",
    "y = df['attack']\n",
    "X = df['text_proc'] "
   ]
  },
  {
   "cell_type": "code",
   "execution_count": 11,
   "metadata": {},
   "outputs": [
    {
     "data": {
      "text/plain": [
       "(1275, 609)"
      ]
     },
     "execution_count": 11,
     "metadata": {},
     "output_type": "execute_result"
    }
   ],
   "source": [
    "# get count features\n",
    "count_vect = CountVectorizer(\n",
    "    ngram_range=(1,2),\n",
    "    strip_accents='unicode',\n",
    "    min_df = 5\n",
    "    )\n",
    "X_counts = count_vect.fit_transform(X)\n",
    "X_counts.shape "
   ]
  },
  {
   "cell_type": "code",
   "execution_count": 12,
   "metadata": {},
   "outputs": [],
   "source": [
    "# hold-out some data for final validation\n",
    "X_counts_train, X_counts_test, y_train, y_test = train_test_split(X_counts, y, test_size=0.25, random_state=42)"
   ]
  },
  {
   "cell_type": "code",
   "execution_count": 13,
   "metadata": {},
   "outputs": [
    {
     "name": "stdout",
     "output_type": "stream",
     "text": [
      "Fitting 8 folds for each of 5 candidates, totalling 40 fits\n"
     ]
    },
    {
     "name": "stderr",
     "output_type": "stream",
     "text": [
      "[Parallel(n_jobs=6)]: Using backend LokyBackend with 6 concurrent workers.\n",
      "[Parallel(n_jobs=6)]: Done   6 tasks      | elapsed:    1.7s\n"
     ]
    },
    {
     "name": "stdout",
     "output_type": "stream",
     "text": [
      "GridSearchCV(cv=8, error_score='raise-deprecating',\n",
      "       estimator=LogisticRegression(C=1.0, class_weight=None, dual=False, fit_intercept=True,\n",
      "          intercept_scaling=1, max_iter=100, multi_class='warn',\n",
      "          n_jobs=None, penalty='l2', random_state=None, solver='warn',\n",
      "          tol=0.0001, verbose=0, warm_start=False),\n",
      "       fit_params=None, iid='warn', n_jobs=6,\n",
      "       param_grid={'C': [10, 3, 1, 0.3, 0.1]}, pre_dispatch='2*n_jobs',\n",
      "       refit=True, return_train_score=True, scoring=None, verbose=5)\n"
     ]
    },
    {
     "name": "stderr",
     "output_type": "stream",
     "text": [
      "[Parallel(n_jobs=6)]: Done  38 out of  40 | elapsed:    2.0s remaining:    0.1s\n",
      "[Parallel(n_jobs=6)]: Done  40 out of  40 | elapsed:    2.0s finished\n",
      "/home/hudson/.local/lib/python2.7/site-packages/sklearn/linear_model/logistic.py:432: FutureWarning: Default solver will be changed to 'lbfgs' in 0.22. Specify a solver to silence this warning.\n",
      "  FutureWarning)\n"
     ]
    }
   ],
   "source": [
    "# Define and fit the model\n",
    "estimator =  LogisticRegression()\n",
    "params = dict(C=[10,3,1,0.3,0.1])\n",
    "clf_cv = GridSearchCV(estimator, param_grid=params, cv=8, verbose=5, n_jobs=6, return_train_score=True)\n",
    "print(clf_cv.fit(X_counts_train, y_train))"
   ]
  },
  {
   "cell_type": "code",
   "execution_count": 14,
   "metadata": {},
   "outputs": [
    {
     "data": {
      "text/plain": [
       "{'mean_fit_time': array([0.00398257, 0.00303167, 0.002657  , 0.00243115, 0.00244147]),\n",
       " 'mean_score_time': array([0.00048882, 0.00040597, 0.00037399, 0.00038096, 0.00041655]),\n",
       " 'mean_test_score': array([0.87656904, 0.88179916, 0.87343096, 0.87343096, 0.87343096]),\n",
       " 'mean_train_score': array([0.97683898, 0.91616966, 0.87686853, 0.87343114, 0.87343114]),\n",
       " 'param_C': masked_array(data=[10, 3, 1, 0.3, 0.1],\n",
       "              mask=[False, False, False, False, False],\n",
       "        fill_value='?',\n",
       "             dtype=object),\n",
       " 'params': [{'C': 10}, {'C': 3}, {'C': 1}, {'C': 0.3}, {'C': 0.1}],\n",
       " 'rank_test_score': array([2, 1, 3, 3, 3], dtype=int32),\n",
       " 'split0_test_score': array([0.85123967, 0.8677686 , 0.8677686 , 0.8677686 , 0.8677686 ]),\n",
       " 'split0_train_score': array([0.98083832, 0.92335329, 0.88023952, 0.8742515 , 0.8742515 ]),\n",
       " 'split1_test_score': array([0.86666667, 0.875     , 0.875     , 0.875     , 0.875     ]),\n",
       " 'split1_train_score': array([0.9784689 , 0.91626794, 0.87679426, 0.87320574, 0.87320574]),\n",
       " 'split2_test_score': array([0.9       , 0.89166667, 0.875     , 0.875     , 0.875     ]),\n",
       " 'split2_train_score': array([0.97368421, 0.90909091, 0.87440191, 0.87320574, 0.87320574]),\n",
       " 'split3_test_score': array([0.86554622, 0.86554622, 0.87394958, 0.87394958, 0.87394958]),\n",
       " 'split3_train_score': array([0.97491039, 0.91875747, 0.87694146, 0.87335723, 0.87335723]),\n",
       " 'split4_test_score': array([0.87394958, 0.88235294, 0.87394958, 0.87394958, 0.87394958]),\n",
       " 'split4_train_score': array([0.98088411, 0.91636798, 0.8781362 , 0.87335723, 0.87335723]),\n",
       " 'split5_test_score': array([0.87394958, 0.88235294, 0.87394958, 0.87394958, 0.87394958]),\n",
       " 'split5_train_score': array([0.97013142, 0.91397849, 0.87574671, 0.87335723, 0.87335723]),\n",
       " 'split6_test_score': array([0.8907563 , 0.89915966, 0.87394958, 0.87394958, 0.87394958]),\n",
       " 'split6_train_score': array([0.97968937, 0.91397849, 0.87574671, 0.87335723, 0.87335723]),\n",
       " 'split7_test_score': array([0.8907563 , 0.8907563 , 0.87394958, 0.87394958, 0.87394958]),\n",
       " 'split7_train_score': array([0.97610514, 0.91756272, 0.87694146, 0.87335723, 0.87335723]),\n",
       " 'std_fit_time': array([0.00069068, 0.00029314, 0.00032254, 0.00039539, 0.00029726]),\n",
       " 'std_score_time': array([1.06104488e-04, 4.49375937e-05, 4.30213324e-05, 6.16199537e-05,\n",
       "        6.67206244e-05]),\n",
       " 'std_test_score': array([0.01514487, 0.01110861, 0.00220081, 0.00220081, 0.00220081]),\n",
       " 'std_train_score': array([0.00357668, 0.00387302, 0.00164271, 0.0003166 , 0.0003166 ])}"
      ]
     },
     "execution_count": 14,
     "metadata": {},
     "output_type": "execute_result"
    }
   ],
   "source": [
    "# raw cross-validation results\n",
    "res = clf_cv.cv_results_\n",
    "res"
   ]
  },
  {
   "cell_type": "code",
   "execution_count": 15,
   "metadata": {},
   "outputs": [
    {
     "data": {
      "image/png": "[encoded data removed]",
      "text/plain": [
       "<Figure size 432x288 with 1 Axes>"
      ]
     },
     "metadata": {
      "needs_background": "light"
     },
     "output_type": "display_data"
    }
   ],
   "source": [
    "import matplotlib.pyplot as plt\n",
    "plt.semilogx(params['C'], res['mean_test_score'], 'bo')\n",
    "plt.errorbar(params['C'], res['mean_test_score'], yerr=res['std_test_score'])\n",
    "plt.title('Model performance vs. inverse regularization strength')\n",
    "plt.xlabel('C')\n",
    "plt.ylabel('ROC-AUC')\n",
    "plt.grid()\n",
    "plt.show()"
   ]
  },
  {
   "cell_type": "markdown",
   "metadata": {},
   "source": [
    "## Evaluate model"
   ]
  },
  {
   "cell_type": "code",
   "execution_count": 16,
   "metadata": {},
   "outputs": [],
   "source": [
    "# Retrain best model on entire training set and predict outcomes on test set\n",
    "from sklearn import metrics\n",
    "clf_best = clf_cv.best_estimator_.fit(X_counts_train, y_train)\n",
    "y_pred_test = clf_best.predict_proba(X_counts_test)[:,1]"
   ]
  },
  {
   "cell_type": "code",
   "execution_count": 17,
   "metadata": {},
   "outputs": [
    {
     "name": "stdout",
     "output_type": "stream",
     "text": [
      "Maximum F1 score: 0.5714285714285714\n",
      "Precision at max: 0.7692307692307693\n",
      "Recall at max: 0.45454545454545453\n",
      "Optimal threshold: 0.28527029374856383\n",
      "Confusion matrix: \n",
      "[[269   6]\n",
      " [ 25  19]]\n"
     ]
    },
    {
     "data": {
      "image/png": "[encoded data removed]",
      "text/plain": [
       "<Figure size 432x288 with 1 Axes>"
      ]
     },
     "metadata": {
      "needs_background": "light"
     },
     "output_type": "display_data"
    },
    {
     "data": {
      "text/plain": [
       "<Figure size 432x288 with 0 Axes>"
      ]
     },
     "metadata": {},
     "output_type": "display_data"
    }
   ],
   "source": [
    "# precision-recall analysis:\n",
    "precision, recall, eps = metrics.precision_recall_curve(y_test, y_pred_test)\n",
    "f1 = 2 * precision * recall / (precision + recall)\n",
    "f1max_ind = np.argmax(f1)\n",
    "print(\"Maximum F1 score: \" + str(f1[f1max_ind]))\n",
    "print(\"Precision at max: \" + str(precision[f1max_ind]))\n",
    "print(\"Recall at max: \" + str(recall[f1max_ind]))\n",
    "print(\"Optimal threshold: \" + str(eps[f1max_ind]))\n",
    "\n",
    "# confusion matrix at optimal threshold\n",
    "print \"Confusion matrix: \\n\", metrics.confusion_matrix(y_test, y_pred_test>eps[f1max_ind])\n",
    "\n",
    "# precision recall curve\n",
    "fig, ax = plt.subplots() \n",
    "ax.plot(recall, precision, 'b-')\n",
    "ax.set(xlabel='recall', ylabel='precision',ylim=(0,None))\n",
    "ax.set_aspect('equal')\n",
    "ax.grid()\n",
    "plt.title('Precision-Recall Curve')\n",
    "plt.show()\n",
    "plt.clf()"
   ]
  },
  {
   "cell_type": "code",
   "execution_count": 31,
   "metadata": {},
   "outputs": [
    {
     "name": "stdout",
     "output_type": "stream",
     "text": [
      "ROC-AUC:  0.8350413223140496\n"
     ]
    },
    {
     "data": {
      "image/png": "[encoded data removed]",
      "text/plain": [
       "<Figure size 432x288 with 1 Axes>"
      ]
     },
     "metadata": {
      "needs_background": "light"
     },
     "output_type": "display_data"
    },
    {
     "data": {
      "text/plain": [
       "<Figure size 432x288 with 0 Axes>"
      ]
     },
     "metadata": {},
     "output_type": "display_data"
    }
   ],
   "source": [
    "# ROC Analysis:\n",
    "fpr, tpr, th = metrics.roc_curve(y_test, y_pred_test)\n",
    "roc_auc = metrics.roc_auc_score(y_test, y_pred_test)\n",
    "print \"ROC-AUC: \", roc_auc\n",
    "\n",
    "fig, ax = plt.subplots() \n",
    "ax.plot(fpr, tpr, 'b-')\n",
    "ax.plot([0,1],[0,1],'k--')\n",
    "#ax.plot([0,0.5],[1,0.5], 'k-')\n",
    "#ax.plot([0,0.3],[1,1],'k',linewidth=10)\n",
    "#ax.plot([0],[1],'ro',markersize=20)\n",
    "ax.set(xlabel='fpr', ylabel='tpr')\n",
    "ax.set_aspect('equal')\n",
    "ax.grid()\n",
    "plt.title(\"ROC Curve\")\n",
    "plt.show()\n",
    "plt.clf()"
   ]
  },
  {
   "cell_type": "markdown",
   "metadata": {},
   "source": [
    "## What words are important?"
   ]
  },
  {
   "cell_type": "code",
   "execution_count": 19,
   "metadata": {},
   "outputs": [],
   "source": [
    "# find coefficient size order from min to max\n",
    "argsrt = np.argsort(clf_best.coef_).flatten()\n",
    "\n",
    "# map to words\n",
    "sorted_words = np.asarray(count_vect.vocabulary_.keys())[argsrt]"
   ]
  },
  {
   "cell_type": "code",
   "execution_count": 20,
   "metadata": {},
   "outputs": [
    {
     "name": "stdout",
     "output_type": "stream",
     "text": [
      "Attack words:  [u'receive' u'association' u'balanced' u'dangerous' u'residents' u'stay'\n",
      " u'epa' u'ill' u'attending' u'congress' u'tax cuts' u'discussion'\n",
      " u'release' u'great' u'constituents' u'town hall' u'americas' u'hard'\n",
      " u'joining' u'cuts jobs' u'afternoon' u'security' u'glad' u'lives'\n",
      " u'interest']\n",
      "Non-attack words:  [u'dont' u'dc' u'presidents' u'sure' u'ways' u'big' u'helping'\n",
      " u'protection' u'prevent' u'interview' u'gives' u'discuss' u'jobs' u'sotu'\n",
      " u'proud' u'way' u'tweet' u'efforts' u'defend' u'cut' u'mental'\n",
      " u'medicare' u'news' u'put' u'watch']\n"
     ]
    }
   ],
   "source": [
    "# top words predicting attack:\n",
    "n=25\n",
    "print \"Attack words: \", sorted_words[-1:-1*n-1:-1]\n",
    "\n",
    "# predicting not attack:\n",
    "print \"Non-attack words: \", sorted_words[0:n]"
   ]
  },
  {
   "cell_type": "markdown",
   "metadata": {},
   "source": [
    "## What are examples where the model got it wrong?"
   ]
  },
  {
   "cell_type": "code",
   "execution_count": 50,
   "metadata": {},
   "outputs": [
    {
     "data": {
      "text/plain": [
       "['\"We will block the Administration\\\\\\'s war on all forms of energy in this country. The American people deserve it.\"pic.twitter.com/V2Ae0ZdQCN',\n",
       " 'The @HouseCommerce Energy and Power Subcmte is set to examine the new EPA rules for existing power plants in June. http://energycommerce.house.gov/press-release/upton-and-whitfield-respond-epas-cap-and-trade-proposal...',\n",
       " 'The #TaxCutsandJobsAct means big things for everyday American families all across Southeastern Michigan and the United States. Relief is heading your way!https://fairandsimple.gop',\n",
       " \"#DREAMers are Americans. Ending #DACA would be a cruel & stupid mistake. Trump admin should do what's right & #DefendDACA.\",\n",
       " 'As we celebrate Labor Day, let us acknowledge and pay tribute to the millions of hard working Americans who each... http://fb.me/6iKkEMUUJ',\n",
       " \".@RepDwightEvans & I caught up w/ @Laurenjmayk @NBCPhiladelphia to talk about tonight's Congressional  Game http://bit.ly/2sBbWihpic.twitter.com/XIRyaTgtNW\"]"
      ]
     },
     "execution_count": 50,
     "metadata": {},
     "output_type": "execute_result"
    }
   ],
   "source": [
    "# Predicted attack but wasn't:\n",
    "idx=np.logical_and(y_pred_test>eps[f1max_ind], y_test!=1)\n",
    "idx=idx[idx].index\n",
    "list(df.loc[idx].text)"
   ]
  },
  {
   "cell_type": "code",
   "execution_count": 51,
   "metadata": {},
   "outputs": [
    {
     "data": {
      "text/plain": [
       "['About to join @hardball on @MSNBC to discuss Republicans refusal to face reality of @TheJusticeDept IG report, which found no evidence of bias in the investigation.https://twitter.com/hardball/status/1007393245163409408...',\n",
       " \"The 20 week abortion ban signed by @GovWalker today is an attack on women's reproductive health: http://pocan.house.gov/media-center/press-releases/pocan-condemns-wisconsin-s-20-week-abortion-ban... #StopTheBans\",\n",
       " 'Another example of \"spendulus\" bill doing more harm than good http://tinyurl.com/oztxn6',\n",
       " \"@RepPaulRyan Which is why you're including the revenues from the fiscal cliff deal in your budget? #RyanBudgetFail\",\n",
       " \"If the President ignores the checks and balances set by the Constitution, he'll poison the well on immigration reformhttp://bit.ly/1zVPk8Y\",\n",
       " 'This court ruling is an important victory. The implementation of #Obamacare was illegal and its policies are harmful. http://thehill.com/policy/healthcare/253115-court-allows-boehner-lawsuit-against-obamacare-to-move-forward...',\n",
       " \"Prayers for #NiceFrance\\\\xe2\\\\x80\\\\x94yet another wake-up call to challenges free world faces from jihad. It's time to get tough!pic.twitter.com/X0peCpr73j\",\n",
       " 'We are here. We are ready. @SpeakerRyan, the American people want action on gun control. #NoBillNoBreak',\n",
       " 'Thxhttps://twitter.com/foxnews/status/959709302217785344...',\n",
       " 'Chaffetz, Cummings Refer Former CSB Chairman to DOJ for Criminal Prosecution https://oversight.house.gov/release/chaffetz-cummings-refer-former-csb-chairman-doj-criminal-prosecution/... via @GOPOversight',\n",
       " 'Average premium prices in Graham County will increase by 744% under #AHCA. http://kff.org/interactive/tax-credits-under-the-affordable-care-act-vs-replacement-proposal-interactive-map/... #AZ01pic.twitter.com/aQSXOPXgmk',\n",
       " \"Yesterday's BOE decision=a setback. But we can keep working to give NYers trust in their electoral process: http://bit.ly/1733dkE #nyc2013\",\n",
       " 'A great day for #Dreamers & a great day for #California! @realdonaldtrump tried to skirt the rule in requesting #SCOTUS review our #DACA case. The Court said no: https://www.washingtonpost.com/politics/courts_law/supreme-court-declines-trump-request-to-take-up-daca-controversy-now/2018/02/26/4fb2e528-132f-11e8-9570-29c9830535e5_story.html?utm_term=.e325186936b6... #ProtectDACA',\n",
       " \"My statement on today's health care vote: http://hultgren.house.gov/newsroom/press-releases/hultgren-on-health-care-vote...pic.twitter.com/RmxPDYvLsX\",\n",
       " '.@GovSandoval knows what we all do: The #GrahamCassidy repeal bill is not in the best interests of Nevadans.http://thehill.com/policy/healthcare/health-reform-implementation/351514-analysis-shows-states-would-lose-billions...',\n",
       " \"No matter how they look at the Police Chief's answers, it is deceptive if not incompetent.\",\n",
       " 'Americans are dying in Puerto Rico/USVI. Trump at his golf club relaxing. Shameless',\n",
       " 'Russia needs to stop violating the agreed upon cease fire and end the violent attacks in eastern Ukraine. https://kaptur.house.gov/media-center/press-releases/kaptur-introduces-bipartisan-house-resolution-calling-russia-stop...pic.twitter.com/YbeU3eSMsg',\n",
       " 'Today the #FDA revoked the approval of metastatic #breastcancer treatment drug #Avastin - I am deeply disapointed http://goo.gl/VvYJi',\n",
       " \"VIDEO: The President's @PressSec admits the sequester was @BarackObama's idea http://bit.ly/V65mux #Obamaquester #SOTU\",\n",
       " 'Middle class relief?https://twitter.com/CBSNews/status/923039434223882240...',\n",
       " \"LIVE NOW: I'm talking to Dr. Bradley Gilbert of @IEHP_healthcare about the impact of #TrumpCare on our region. https://www.facebook.com/RepMarkTakano/\",\n",
       " '\\\\xe2\\\\x80\\\\x9c@stevenfhayward: One quick way Obama could slice a 10 to 15 cents off the price of gasoline. http://www.powerlineblog.com/archives/2012/03/bureaucratic-gas.php...\\\\xe2\\\\x80\\\\x9d',\n",
       " 'I just spoke on the floor of the U.S. House in support of ending this reckless government shutdown: http://youtu.be/ML2U05dEYgU #EnoughAlready',\n",
       " '#obstructionofjustice #TrumpRussia #coveruphttps://twitter.com/davidaxelrod/status/864609258935111684...']"
      ]
     },
     "execution_count": 51,
     "metadata": {},
     "output_type": "execute_result"
    }
   ],
   "source": [
    "# Predicted non-attack but was:\n",
    "idx=np.logical_and(y_pred_test<=eps[f1max_ind], y_test==1)\n",
    "idx=idx[idx].index\n",
    "list(df.loc[idx].text)"
   ]
  }
 ],
 "metadata": {
  "kernelspec": {
   "display_name": "Python 3",
   "language": "python",
   "name": "python3"
  },
  "language_info": {
   "codemirror_mode": {
    "name": "ipython",
    "version": 3
   },
   "file_extension": ".py",
   "mimetype": "text/x-python",
   "name": "python",
   "nbconvert_exporter": "python",
   "pygments_lexer": "ipython3",
   "version": "3.7.1"
  }
 },
 "nbformat": 4,
 "nbformat_minor": 2
}
