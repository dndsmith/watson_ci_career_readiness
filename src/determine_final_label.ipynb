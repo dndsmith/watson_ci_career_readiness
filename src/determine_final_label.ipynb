{
 "cells": [
  {
   "cell_type": "markdown",
   "metadata": {},
   "source": [
    "### Using this to get the entries with no consensus"
   ]
  },
  {
   "cell_type": "code",
   "execution_count": 1,
   "metadata": {},
   "outputs": [],
   "source": [
    "import pandas as pd\n",
    "df = pd.read_csv (r\"../data/labelbox_set2_export.csv\")"
   ]
  },
  {
   "cell_type": "markdown",
   "metadata": {},
   "source": [
    "### remove unnecessary data"
   ]
  },
  {
   "cell_type": "code",
   "execution_count": 2,
   "metadata": {},
   "outputs": [],
   "source": [
    "df = df[df[\"Dataset Name\"] != \"segmented_commas.csv\"]\n",
    "df = df.drop([\"ID\", \"DataRow ID\", \"Project Name\", \"Created At\", \"Seconds to Label\", \"External ID\", \"Dataset Name\", \"Reviews\", \"View Label\"], axis=1)\n",
    "df = df.drop()\n",
    "df.sort_values(by=[\"Labeled Data\"], inplace=True)"
   ]
  },
  {
   "cell_type": "markdown",
   "metadata": {},
   "source": [
    "### The below doesn't work because the data is wonky (I assume four labels per entry, but sometimes Hudson makes it five)"
   ]
  },
  {
   "cell_type": "code",
   "execution_count": null,
   "metadata": {},
   "outputs": [],
   "source": [
    "df[\"Label\"]\n",
    "oof = 0\n",
    "array = [None] * 4\n",
    "indices = [None] * 4\n",
    "for index, row in df.iterrows():\n",
    "    a = row[\"Agreement\"]\n",
    "    indices[oof] = index\n",
    "    array[oof] = a\n",
    "    oof += 1\n",
    "    if oof == 4:\n",
    "        oof = 0\n",
    "        array.sort()\n",
    "        if array[0] != array[3] or array[0] == 1:\n",
    "            for i in indices:\n",
    "                df = df.drop(index=i)\n",
    "df"
   ]
  }
 ],
 "metadata": {
  "kernelspec": {
   "display_name": "Python 3",
   "language": "python",
   "name": "python3"
  },
  "language_info": {
   "codemirror_mode": {
    "name": "ipython",
    "version": 3
   },
   "file_extension": ".py",
   "mimetype": "text/x-python",
   "name": "python",
   "nbconvert_exporter": "python",
   "pygments_lexer": "ipython3",
   "version": "3.7.1"
  }
 },
 "nbformat": 4,
 "nbformat_minor": 2
}
